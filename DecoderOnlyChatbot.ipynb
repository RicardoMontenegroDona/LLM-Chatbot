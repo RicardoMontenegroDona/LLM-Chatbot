{
 "cells": [
  {
   "cell_type": "markdown",
   "metadata": {},
   "source": [
    "# 0. Imports"
   ]
  },
  {
   "cell_type": "code",
   "execution_count": 1,
   "metadata": {},
   "outputs": [
    {
     "name": "stdout",
     "output_type": "stream",
     "text": [
      "Dispositivo disponível: cuda\n"
     ]
    }
   ],
   "source": [
    "import os\n",
    "\n",
    "import pandas as pd\n",
    "import torch ## torch let's us create tensors and also provides helper functions\n",
    "import torch.nn as nn ## torch.nn gives us nn.Module(), nn.Embedding() and nn.Linear()\n",
    "import torch.nn.functional as F # This gives us the softmax() and argmax()\n",
    "from torch.optim import Adam ## We will use the Adam optimizer, which is, essentially, \n",
    "from torch.utils.data import TensorDataset, DataLoader\n",
    "\n",
    "import matplotlib.pyplot as plt\n",
    "\n",
    "device = torch.device(\"cuda\" if torch.cuda.is_available() else \"cpu\")\n",
    "# device =torch.device(\"cpu\")\n",
    "print(f\"Dispositivo disponível: {device}\")\n",
    "\n",
    "import warnings\n",
    "# Ignora todos os warnings do tipo DeprecationWarning\n",
    "warnings.filterwarnings(\"ignore\")"
   ]
  },
  {
   "cell_type": "code",
   "execution_count": 2,
   "metadata": {},
   "outputs": [],
   "source": [
    "# Define a function to pad sequences to a specified length\n",
    "def pad_sequences(sequences, max_len, pad_token):\n",
    "    padded_sequences = []\n",
    "    for seq in sequences:\n",
    "        if len(seq) < max_len:\n",
    "            seq.extend([pad_token] * (max_len - len(seq)))\n",
    "        padded_sequences.append(seq)\n",
    "    return padded_sequences"
   ]
  },
  {
   "cell_type": "markdown",
   "metadata": {},
   "source": [
    "# 1. Dataset"
   ]
  },
  {
   "cell_type": "code",
   "execution_count": 3,
   "metadata": {},
   "outputs": [
    {
     "data": {
      "text/html": [
       "<div>\n",
       "<style scoped>\n",
       "    .dataframe tbody tr th:only-of-type {\n",
       "        vertical-align: middle;\n",
       "    }\n",
       "\n",
       "    .dataframe tbody tr th {\n",
       "        vertical-align: top;\n",
       "    }\n",
       "\n",
       "    .dataframe thead th {\n",
       "        text-align: right;\n",
       "    }\n",
       "</style>\n",
       "<table border=\"1\" class=\"dataframe\">\n",
       "  <thead>\n",
       "    <tr style=\"text-align: right;\">\n",
       "      <th></th>\n",
       "      <th>Final</th>\n",
       "    </tr>\n",
       "  </thead>\n",
       "  <tbody>\n",
       "    <tr>\n",
       "      <th>0</th>\n",
       "      <td>The Porto Tram Museum (Museu do Carro Eléctric...</td>\n",
       "    </tr>\n",
       "    <tr>\n",
       "      <th>1</th>\n",
       "      <td>The rabelo boat is a traditional Portuguese wo...</td>\n",
       "    </tr>\n",
       "    <tr>\n",
       "      <th>2</th>\n",
       "      <td>STCP (Sociedade de Transportes Colectivos do P...</td>\n",
       "    </tr>\n",
       "    <tr>\n",
       "      <th>3</th>\n",
       "      <td>The tram system of Porto in Portugal is operat...</td>\n",
       "    </tr>\n",
       "    <tr>\n",
       "      <th>4</th>\n",
       "      <td>The FC Porto Museum, officially known as FC Po...</td>\n",
       "    </tr>\n",
       "  </tbody>\n",
       "</table>\n",
       "</div>"
      ],
      "text/plain": [
       "                                               Final\n",
       "0  The Porto Tram Museum (Museu do Carro Eléctric...\n",
       "1  The rabelo boat is a traditional Portuguese wo...\n",
       "2  STCP (Sociedade de Transportes Colectivos do P...\n",
       "3  The tram system of Porto in Portugal is operat...\n",
       "4  The FC Porto Museum, officially known as FC Po..."
      ]
     },
     "execution_count": 3,
     "metadata": {},
     "output_type": "execute_result"
    }
   ],
   "source": [
    "# Get current working directory\n",
    "current_directory = os.getcwd()\n",
    "\n",
    "df = pd.read_excel(current_directory+\"\\Porto_Database.xlsx\").drop(columns=[\"Unnamed: 0\",\"Fonte\"],axis=1)[:10]\n",
    "\n",
    "df[\"Final\"] = df[\"Final\"].apply(lambda x: x+\" <EOS>\")\n",
    "\n",
    "df.head()"
   ]
  },
  {
   "cell_type": "markdown",
   "metadata": {},
   "source": [
    "# 2. Tokenizer"
   ]
  },
  {
   "cell_type": "markdown",
   "metadata": {},
   "source": [
    "## 2.1. Data to Tokenize"
   ]
  },
  {
   "cell_type": "code",
   "execution_count": 8,
   "metadata": {},
   "outputs": [],
   "source": [
    "df_token = pd.read_excel(current_directory+\"\\Porto_Database.xlsx\").drop(columns=[\"Unnamed: 0\",\"Fonte\"],axis=1)\n",
    "\n",
    "df_token = '\\n'.join(df_token.astype(str).apply(lambda x: ' '.join(x), axis=1))\n"
   ]
  },
  {
   "cell_type": "code",
   "execution_count": 70,
   "metadata": {},
   "outputs": [],
   "source": [
    "tokens = df_token.split()\n",
    "unique_tokens = set([token.lower() for token in tokens])\n",
    "tokens_to_id = {token: idx for idx, token in enumerate(unique_tokens)}\n",
    "tokens_to_id['<PAD>'] = len(tokens_to_id)\n",
    "tokens_to_id['<EOS>'] = len(tokens_to_id)\n",
    "\n",
    "id_to_token = dict(map(reversed, tokens_to_id.items()))\n"
   ]
  },
  {
   "cell_type": "code",
   "execution_count": 72,
   "metadata": {},
   "outputs": [],
   "source": [
    "# Initialize lists for inputs and outputs\n",
    "inputs = []\n",
    "labels = []\n",
    "\n",
    "for t in range(df.shape[0]):\n",
    "        inputs.append(df.iloc[t][0].split()[:-1])\n",
    "        # print(t.split()[i:-1])\n",
    "        labels.append(df.iloc[t][0].split()[1:])\n",
    "\n",
    "\n",
    "final_inputs = []\n",
    "final_labels = []\n",
    "\n",
    "# Process each line to split into input and output\n",
    "for inp, out in zip(inputs, labels):        \n",
    "        tokenized_input = [ tokens_to_id[token.lower()] if token != '<EOS>' else tokens_to_id[token] for token in inp]\n",
    "        final_inputs.append(tokenized_input)\n",
    "        tokenized_labels = [tokens_to_id[token.lower()] if token != '<EOS>' else tokens_to_id[token] for token in out]\n",
    "        final_labels.append(tokenized_labels)\n",
    "\n",
    "padded_inputs = pad_sequences(final_inputs, 700, tokens_to_id['<PAD>'])\n",
    "padded_labels = pad_sequences(final_labels, 700, tokens_to_id['<PAD>'])\n",
    "\n",
    "# Convert to tensors\n",
    "inputs = torch.tensor(final_inputs, dtype=torch.int64)\n",
    "labels = torch.tensor(final_labels, dtype=torch.int64)"
   ]
  },
  {
   "cell_type": "code",
   "execution_count": 73,
   "metadata": {},
   "outputs": [],
   "source": []
  },
  {
   "cell_type": "markdown",
   "metadata": {},
   "source": [
    "# 3. Batch"
   ]
  },
  {
   "cell_type": "code",
   "execution_count": 74,
   "metadata": {},
   "outputs": [],
   "source": [
    "max_len=3000 #input\n",
    "vocab_size = len(tokens_to_id)\n",
    "d_model=2000\n",
    "max_length = 20 #output"
   ]
  },
  {
   "cell_type": "markdown",
   "metadata": {},
   "source": [
    "# 4. DataLoader - Prepare Dataset for Training"
   ]
  },
  {
   "cell_type": "code",
   "execution_count": 75,
   "metadata": {},
   "outputs": [],
   "source": [
    "dataset = TensorDataset(inputs, labels)\n",
    "dataloader = DataLoader(dataset)"
   ]
  },
  {
   "cell_type": "markdown",
   "metadata": {},
   "source": [
    "# 5. Embeddings"
   ]
  },
  {
   "cell_type": "markdown",
   "metadata": {},
   "source": [
    "## 5.1. Class"
   ]
  },
  {
   "cell_type": "code",
   "execution_count": 76,
   "metadata": {},
   "outputs": [],
   "source": [
    "class Embeddings(nn.Module):\n",
    "    def __init__(self,vocab_size=vocab_size, d_model=d_model):\n",
    "        super().__init__()\n",
    "        self.embeddings = nn.Embedding(vocab_size, d_model)\n",
    "\n",
    "    def forward(self, x):\n",
    "        embeddings = self.embeddings(x)\n",
    "        return embeddings"
   ]
  },
  {
   "cell_type": "markdown",
   "metadata": {},
   "source": [
    "## 5.2. Test Class"
   ]
  },
  {
   "cell_type": "code",
   "execution_count": 77,
   "metadata": {},
   "outputs": [
    {
     "data": {
      "text/plain": [
       "tensor([[-0.1687,  0.0578, -2.4049,  ..., -1.6830, -0.3965, -1.4982],\n",
       "        [-0.7585,  0.1634, -0.4372,  ..., -0.6189, -2.2595,  0.9568],\n",
       "        [ 1.3349, -0.4553,  0.4002,  ..., -0.8354, -1.6148, -0.5991],\n",
       "        ...,\n",
       "        [ 0.0032,  1.0589,  0.2159,  ...,  1.3845, -1.4323,  0.1933],\n",
       "        [ 0.0032,  1.0589,  0.2159,  ...,  1.3845, -1.4323,  0.1933],\n",
       "        [ 0.0032,  1.0589,  0.2159,  ...,  1.3845, -1.4323,  0.1933]],\n",
       "       grad_fn=<EmbeddingBackward0>)"
      ]
     },
     "execution_count": 77,
     "metadata": {},
     "output_type": "execute_result"
    }
   ],
   "source": [
    "embeddings = Embeddings()\n",
    "emb = embeddings(inputs[0])\n",
    "emb"
   ]
  },
  {
   "cell_type": "markdown",
   "metadata": {},
   "source": [
    "# 6. Positional Encodings"
   ]
  },
  {
   "cell_type": "markdown",
   "metadata": {},
   "source": [
    "## 6.1. Class"
   ]
  },
  {
   "cell_type": "code",
   "execution_count": 78,
   "metadata": {},
   "outputs": [],
   "source": [
    "class PositionEncoding(nn.Module):\n",
    "    \n",
    "    def __init__(self, d_model=d_model, max_len=max_len):        \n",
    "        super().__init__()\n",
    "       \n",
    "        pe = torch.zeros(max_len, d_model)  \n",
    "        position = torch.arange(start=0, end=max_len, step=1).float().unsqueeze(1)\n",
    "\n",
    "        embedding_index = torch.arange(start=0, end=d_model, step=2).float()\n",
    "        \n",
    "        div_term = 1/torch.tensor(10000.0)**(embedding_index / d_model)\n",
    "        \n",
    "        pe[:, 0::2] = torch.sin(position * div_term) ## every other column, starting with the 1st, has sin() values\n",
    "        pe[:, 1::2] = torch.cos(position * div_term) ## every other column, starting with the 2nd, has cos() values\n",
    "      \n",
    "        ## Now we \"register 'pe'.\n",
    "        self.register_buffer('pe', pe) ## \"register_buffer()\" ensures that\n",
    "                                       ## 'pe' will be moved to wherever the model gets\n",
    "                                       ## moved to. So if the model is moved to a GPU, then,\n",
    "                                       ## even though we don't need to optimize 'pe', it will \n",
    "                                       ## also be moved to that GPU. This, in turn, means\n",
    "                                       ## that accessing 'pe' will be relatively fast copared\n",
    "                                       ## to having a GPU have to get the data from a CPU.\n",
    "\n",
    "    def forward(self, word_embeddings):\n",
    "        # print(word_embeddings.size())\n",
    "        # print(self.pe[:word_embeddings.size(0), :].size())#[:word_embeddings.size(0), :])\n",
    "        return word_embeddings.to(device) + self.pe[:word_embeddings.size(0), :].to(device) ## word_embeddings.size(0) = number of embeddings\n",
    "                                                                      ## NOTE: That second ':' is optional and \n",
    "                                                                      ## we could re-write it like this: \n",
    "                                                                      ## self.pe[:word_embeddings.size(0)]"
   ]
  },
  {
   "cell_type": "markdown",
   "metadata": {},
   "source": [
    "## 6.2. Test Class"
   ]
  },
  {
   "cell_type": "code",
   "execution_count": 79,
   "metadata": {},
   "outputs": [
    {
     "data": {
      "text/plain": [
       "tensor([[-0.1687,  1.0578, -2.4049,  ..., -0.6830, -0.3965, -0.4982],\n",
       "        [ 0.0829,  0.7037,  0.3993,  ...,  0.3811, -2.2594,  1.9568],\n",
       "        [ 2.2442, -0.8715,  1.3170,  ...,  0.1646, -1.6146,  0.4009],\n",
       "        ...,\n",
       "        [-0.4169,  1.9664, -0.2986,  ...,  2.3820, -1.3620,  1.1908],\n",
       "        [ 0.5398,  1.9027,  0.6511,  ...,  2.3820, -1.3619,  1.1908],\n",
       "        [ 1.0032,  1.0633,  1.2075,  ...,  2.3820, -1.3618,  1.1908]],\n",
       "       device='cuda:0', grad_fn=<AddBackward0>)"
      ]
     },
     "execution_count": 79,
     "metadata": {},
     "output_type": "execute_result"
    }
   ],
   "source": [
    "PE = PositionEncoding()\n",
    "pe_embeddings = PE(emb)\n",
    "pe_embeddings"
   ]
  },
  {
   "cell_type": "markdown",
   "metadata": {},
   "source": [
    "# 7. Self-Attention"
   ]
  },
  {
   "cell_type": "markdown",
   "metadata": {},
   "source": [
    "## 7.1. Class"
   ]
  },
  {
   "cell_type": "code",
   "execution_count": 80,
   "metadata": {},
   "outputs": [],
   "source": [
    "class Attention(nn.Module): \n",
    "    \n",
    "    def __init__(self, d_model=d_model):     \n",
    "        super().__init__()\n",
    "        \n",
    "        self.d_model=d_model\n",
    "        self.W_q = nn.Linear(in_features=d_model, out_features=d_model, bias=False)\n",
    "        self.W_k = nn.Linear(in_features=d_model, out_features=d_model, bias=False)\n",
    "        self.W_v = nn.Linear(in_features=d_model, out_features=d_model, bias=False)\n",
    "        \n",
    "        self.row_dim = 0\n",
    "        self.col_dim = 1\n",
    "\n",
    "        \n",
    "    def forward(self, pos_embeddings_q, pos_embeddings_k, pos_embeddings_v, mask=None):\n",
    "        \n",
    "        q = self.W_q(pos_embeddings_q)\n",
    "        k = self.W_k(pos_embeddings_k)\n",
    "        v = self.W_v(pos_embeddings_v)\n",
    "        \n",
    "        sims = torch.matmul(q, k.transpose(dim0=self.row_dim, dim1=self.col_dim))\n",
    "\n",
    "        scaled_sims = sims / torch.tensor(k.size(self.col_dim)**0.5).to(device)\n",
    "\n",
    "        if mask is not None:\n",
    "            scaled_sims = scaled_sims.masked_fill(mask=mask.to(device), value=-1e9) \n",
    "        \n",
    "        attention_percents = F.softmax(scaled_sims, dim=self.col_dim)\n",
    "\n",
    "        # Scale the values by their associated percentages and add them up.\n",
    "        attention_scores = torch.matmul(attention_percents, v)\n",
    "        \n",
    "        return attention_scores.to(device)"
   ]
  },
  {
   "cell_type": "markdown",
   "metadata": {},
   "source": [
    "## 7.2. Test Class"
   ]
  },
  {
   "cell_type": "code",
   "execution_count": 81,
   "metadata": {},
   "outputs": [
    {
     "data": {
      "text/plain": [
       "tensor([[-0.3720, -0.2626,  0.0891,  ..., -0.0006, -0.0307, -0.0598],\n",
       "        [-0.3140, -0.2253,  0.0756,  ...,  0.0193,  0.0069,  0.0032],\n",
       "        [-0.3532, -0.2602,  0.1212,  ..., -0.0248, -0.0509, -0.0494],\n",
       "        ...,\n",
       "        [-0.3403, -0.2430,  0.0784,  ..., -0.0147, -0.0133, -0.0013],\n",
       "        [-0.3459, -0.2474,  0.0873,  ..., -0.0169, -0.0146, -0.0101],\n",
       "        [-0.3500, -0.2486,  0.0908,  ..., -0.0246, -0.0166, -0.0170]],\n",
       "       device='cuda:0', grad_fn=<MmBackward0>)"
      ]
     },
     "execution_count": 81,
     "metadata": {},
     "output_type": "execute_result"
    }
   ],
   "source": [
    "attention = Attention().to(device)\n",
    "attention(pe_embeddings,pe_embeddings,pe_embeddings)"
   ]
  },
  {
   "cell_type": "markdown",
   "metadata": {},
   "source": [
    "# 8. DecoderOnlyTransformer"
   ]
  },
  {
   "cell_type": "markdown",
   "metadata": {},
   "source": [
    "## 8.1 Class"
   ]
  },
  {
   "cell_type": "code",
   "execution_count": 82,
   "metadata": {},
   "outputs": [],
   "source": [
    "torch.manual_seed(0)\n",
    "\n",
    "class DecoderOnlyTransformer(nn.Module):\n",
    "    \n",
    "    def __init__(self, vocab_size=vocab_size, d_model=d_model, max_len=max_len):\n",
    "        \n",
    "        super().__init__()\n",
    "        \n",
    "        self.we = Embeddings(vocab_size, d_model)     \n",
    "        \n",
    "        self.pe = PositionEncoding(d_model=d_model, \n",
    "                                   max_len=max_len)\n",
    "\n",
    "        self.self_attention = Attention(d_model=d_model)\n",
    "\n",
    "        self.fc_layer = nn.Linear(in_features=d_model, out_features=vocab_size)\n",
    "        \n",
    "        self.loss = nn.CrossEntropyLoss()\n",
    "        \n",
    "        \n",
    "    def forward(self, token_ids):\n",
    "                \n",
    "        word_embeddings = self.we(token_ids)     \n",
    "        pe_embeddings = self.pe(word_embeddings)\n",
    "        \n",
    "        mask = torch.tril(torch.ones((token_ids.size(dim=0), token_ids.size(dim=0))))#, device=self.device))\n",
    "        mask = mask == 0\n",
    "        \n",
    "        self_attention_values = self.self_attention(pe_embeddings, \n",
    "                                                    pe_embeddings, \n",
    "                                                    pe_embeddings, \n",
    "                                                    mask=mask)\n",
    "        \n",
    "        residual_connection_values = pe_embeddings + self_attention_values\n",
    "        \n",
    "        fc_layer_output = self.fc_layer(residual_connection_values)\n",
    "        \n",
    "        return fc_layer_output\n"
   ]
  },
  {
   "cell_type": "markdown",
   "metadata": {},
   "source": [
    "## 8.2. Test Class"
   ]
  },
  {
   "cell_type": "code",
   "execution_count": 83,
   "metadata": {},
   "outputs": [
    {
     "data": {
      "text/plain": [
       "'zaravinas 934, 7.1 upscale -ribeira, (praia artefactos fisico 115.74 english/irish, https://www.tripadvisor.com/restaurant_review-g1066093-d27197494-reviews-3_netinhas-maia_porto_district_northern_portugal.html. chocolates scarlatti, damned https://www.booking.com/hotel/pt/porto-spot-hostel.en-gb.html?selected_currency=usd&lang=en-gb&group_adults=2&group_children=0&no_rooms=1 https://www.editoryhotels.com/boulevard-aliados-porto/restaurantes/restaurante-ilicito/. minted 19:00.'"
      ]
     },
     "execution_count": 83,
     "metadata": {},
     "output_type": "execute_result"
    }
   ],
   "source": [
    "model = DecoderOnlyTransformer(vocab_size=len(tokens_to_id), d_model=d_model, max_len=max_len).to(device)\n",
    "## Now create the input for the transformer...\n",
    "model_input = torch.tensor([tokens_to_id[\"where\"],\n",
    "                            tokens_to_id[\"is\"], \n",
    "                            tokens_to_id[\"porto\"]]).to(device)\n",
    "\n",
    "input_length = model_input.size(dim=0)\n",
    "\n",
    "## Now get get predictions from the model\n",
    "predictions = model(model_input) \n",
    "predicted_id = torch.tensor([torch.argmax(predictions[-1,:])])\n",
    "\n",
    "predicted_ids = predicted_id\n",
    "\n",
    "\n",
    "for i in range(input_length, max_length):\n",
    "    if (predicted_id == tokens_to_id[\"<EOS>\"]): # if the prediction is <EOS>, then we are done\n",
    "        break\n",
    "    \n",
    "    model_input = torch.cat((model_input, predicted_id.to(device)))\n",
    "    \n",
    "    predictions = model(model_input) \n",
    "    predicted_id = torch.tensor([torch.argmax(predictions[-1,:])])\n",
    "    predicted_ids = torch.cat((predicted_ids, predicted_id))\n",
    "        \n",
    "## Now printout the predicted output phrase.\n",
    "answer = []\n",
    "for id in predicted_ids: \n",
    "    answer.append(id_to_token[id.item()])\n",
    "\n",
    "\" \".join(answer)"
   ]
  },
  {
   "cell_type": "markdown",
   "metadata": {},
   "source": [
    "# 9. Treino"
   ]
  },
  {
   "cell_type": "markdown",
   "metadata": {},
   "source": [
    "## 9.1. Batch - Treino"
   ]
  },
  {
   "cell_type": "code",
   "execution_count": 85,
   "metadata": {},
   "outputs": [],
   "source": [
    "model = DecoderOnlyTransformer(vocab_size=len(tokens_to_id), d_model=d_model, max_len=max_len).to(device)\n",
    "loss_fn = nn.CrossEntropyLoss(ignore_index=tokens_to_id['<PAD>'])\n",
    "optimizer = Adam(model.parameters(), lr=0.0001)"
   ]
  },
  {
   "cell_type": "markdown",
   "metadata": {},
   "source": [
    "## 9.2. Loop"
   ]
  },
  {
   "cell_type": "code",
   "execution_count": 86,
   "metadata": {},
   "outputs": [
    {
     "name": "stdout",
     "output_type": "stream",
     "text": [
      "Epoch 1/300, Loss: 9.64799022674560546875\n",
      "Epoch 2/300, Loss: 7.90225076675415039062\n",
      "Epoch 3/300, Loss: 6.86414766311645507812\n",
      "Epoch 4/300, Loss: 6.21644353866577148438\n",
      "Epoch 5/300, Loss: 5.63541507720947265625\n",
      "Epoch 6/300, Loss: 5.26998472213745117188\n",
      "Epoch 7/300, Loss: 4.85587930679321289062\n",
      "Epoch 8/300, Loss: 4.46452999114990234375\n",
      "Epoch 9/300, Loss: 4.15973758697509765625\n",
      "Epoch 10/300, Loss: 3.79403567314147949219\n",
      "Epoch 11/300, Loss: 3.56083726882934570312\n",
      "Epoch 12/300, Loss: 3.28416228294372558594\n",
      "Epoch 13/300, Loss: 2.92825651168823242188\n",
      "Epoch 14/300, Loss: 2.72146892547607421875\n",
      "Epoch 15/300, Loss: 2.56595826148986816406\n",
      "Epoch 16/300, Loss: 2.39306902885437011719\n",
      "Epoch 17/300, Loss: 2.18351864814758300781\n",
      "Epoch 18/300, Loss: 2.04192209243774414062\n",
      "Epoch 19/300, Loss: 1.88763523101806640625\n",
      "Epoch 20/300, Loss: 1.78786265850067138672\n",
      "Epoch 21/300, Loss: 1.73966681957244873047\n",
      "Epoch 22/300, Loss: 1.76297211647033691406\n",
      "Epoch 23/300, Loss: 1.60599827766418457031\n",
      "Epoch 24/300, Loss: 1.56014275550842285156\n",
      "Epoch 25/300, Loss: 1.36747729778289794922\n",
      "Epoch 26/300, Loss: 1.35358381271362304688\n",
      "Epoch 27/300, Loss: 1.24993276596069335938\n",
      "Epoch 28/300, Loss: 1.15802121162414550781\n",
      "Epoch 29/300, Loss: 1.11306297779083251953\n",
      "Epoch 30/300, Loss: 1.05567848682403564453\n",
      "Epoch 31/300, Loss: 1.04631102085113525391\n",
      "Epoch 32/300, Loss: 0.97934460639953613281\n",
      "Epoch 33/300, Loss: 0.94341397285461425781\n",
      "Epoch 34/300, Loss: 0.88382583856582641602\n",
      "Epoch 35/300, Loss: 0.89115303754806518555\n",
      "Epoch 36/300, Loss: 0.85449296236038208008\n",
      "Epoch 37/300, Loss: 0.80515319108963012695\n",
      "Epoch 38/300, Loss: 0.77934437990188598633\n",
      "Epoch 39/300, Loss: 0.76748013496398925781\n",
      "Epoch 40/300, Loss: 0.74197095632553100586\n",
      "Epoch 41/300, Loss: 0.69325536489486694336\n",
      "Epoch 42/300, Loss: 0.67992073297500610352\n",
      "Epoch 43/300, Loss: 0.65237444639205932617\n",
      "Epoch 44/300, Loss: 0.63982683420181274414\n",
      "Epoch 45/300, Loss: 0.60136646032333374023\n",
      "Epoch 46/300, Loss: 0.59484672546386718750\n",
      "Epoch 47/300, Loss: 0.55507624149322509766\n",
      "Epoch 48/300, Loss: 0.56112045049667358398\n",
      "Epoch 49/300, Loss: 0.53693091869354248047\n",
      "Epoch 50/300, Loss: 0.52430224418640136719\n",
      "Epoch 51/300, Loss: 0.48756366968154907227\n",
      "Epoch 52/300, Loss: 0.48799759149551391602\n",
      "Epoch 53/300, Loss: 0.48285648226737976074\n",
      "Epoch 54/300, Loss: 0.47171643376350402832\n",
      "Epoch 55/300, Loss: 0.50448775291442871094\n",
      "Epoch 56/300, Loss: 0.48262044787406921387\n",
      "Epoch 57/300, Loss: 0.49105033278465270996\n",
      "Epoch 58/300, Loss: 0.45550692081451416016\n",
      "Epoch 59/300, Loss: 0.44605115056037902832\n",
      "Epoch 60/300, Loss: 0.40376588702201843262\n",
      "Epoch 61/300, Loss: 0.40428820252418518066\n",
      "Epoch 62/300, Loss: 0.37096112966537475586\n",
      "Epoch 63/300, Loss: 0.37902107834815979004\n",
      "Epoch 64/300, Loss: 0.34210115671157836914\n",
      "Epoch 65/300, Loss: 0.35573747754096984863\n",
      "Epoch 66/300, Loss: 0.34562602639198303223\n",
      "Epoch 67/300, Loss: 0.34585669636726379395\n",
      "Epoch 68/300, Loss: 0.31775215268135070801\n",
      "Epoch 69/300, Loss: 0.31540444493293762207\n",
      "Epoch 70/300, Loss: 0.30598348379135131836\n",
      "Epoch 71/300, Loss: 0.30234995484352111816\n",
      "Epoch 72/300, Loss: 0.28895461559295654297\n",
      "Epoch 73/300, Loss: 0.28424838185310363770\n",
      "Epoch 74/300, Loss: 0.27608293294906616211\n",
      "Epoch 75/300, Loss: 0.27374836802482604980\n",
      "Epoch 76/300, Loss: 0.25885325670242309570\n",
      "Epoch 77/300, Loss: 0.25934189558029174805\n",
      "Epoch 78/300, Loss: 0.26074644923210144043\n",
      "Epoch 79/300, Loss: 0.25844514369964599609\n",
      "Epoch 80/300, Loss: 0.25071209669113159180\n",
      "Epoch 81/300, Loss: 0.24600134789943695068\n",
      "Epoch 82/300, Loss: 0.24542438983917236328\n",
      "Epoch 83/300, Loss: 0.25019156932830810547\n",
      "Epoch 84/300, Loss: 0.24785970151424407959\n",
      "Epoch 85/300, Loss: 0.25084954500198364258\n",
      "Epoch 86/300, Loss: 0.27222481369972229004\n",
      "Epoch 87/300, Loss: 0.28173229098320007324\n",
      "Epoch 88/300, Loss: 0.38923764228820800781\n",
      "Epoch 89/300, Loss: 0.39726656675338745117\n",
      "Epoch 90/300, Loss: 0.30933299660682678223\n",
      "Epoch 91/300, Loss: 0.27209419012069702148\n",
      "Epoch 92/300, Loss: 0.25097224116325378418\n",
      "Epoch 93/300, Loss: 0.27635088562965393066\n",
      "Epoch 94/300, Loss: 0.20602813363075256348\n",
      "Epoch 95/300, Loss: 0.25795286893844604492\n",
      "Epoch 96/300, Loss: 0.25266042351722717285\n",
      "Epoch 97/300, Loss: 0.24597148597240447998\n",
      "Epoch 98/300, Loss: 0.20261611044406890869\n",
      "Epoch 99/300, Loss: 0.24052858352661132812\n",
      "Epoch 100/300, Loss: 0.17592738568782806396\n",
      "Epoch 101/300, Loss: 0.18187876045703887939\n",
      "Epoch 102/300, Loss: 0.16750615835189819336\n",
      "Epoch 103/300, Loss: 0.16728770732879638672\n",
      "Epoch 104/300, Loss: 0.16603039205074310303\n",
      "Epoch 105/300, Loss: 0.15401104092597961426\n",
      "Epoch 106/300, Loss: 0.15374675393104553223\n",
      "Epoch 107/300, Loss: 0.14972020685672760010\n",
      "Epoch 108/300, Loss: 0.14956124126911163330\n",
      "Epoch 109/300, Loss: 0.14168012142181396484\n",
      "Epoch 110/300, Loss: 0.14244206249713897705\n",
      "Epoch 111/300, Loss: 0.13908202946186065674\n",
      "Epoch 112/300, Loss: 0.13679172098636627197\n",
      "Epoch 113/300, Loss: 0.13454519212245941162\n",
      "Epoch 114/300, Loss: 0.13201554119586944580\n",
      "Epoch 115/300, Loss: 0.13219483196735382080\n",
      "Epoch 116/300, Loss: 0.12884007394313812256\n",
      "Epoch 117/300, Loss: 0.12596932053565979004\n",
      "Epoch 118/300, Loss: 0.12794131040573120117\n",
      "Epoch 119/300, Loss: 0.12232624739408493042\n",
      "Epoch 120/300, Loss: 0.12020677328109741211\n",
      "Epoch 121/300, Loss: 0.12083604931831359863\n",
      "Epoch 122/300, Loss: 0.11983495205640792847\n",
      "Epoch 123/300, Loss: 0.11584997177124023438\n",
      "Epoch 124/300, Loss: 0.11716464906930923462\n",
      "Epoch 125/300, Loss: 0.11264509707689285278\n",
      "Epoch 126/300, Loss: 0.11313734948635101318\n",
      "Epoch 127/300, Loss: 0.11196140944957733154\n",
      "Epoch 128/300, Loss: 0.10810474306344985962\n",
      "Epoch 129/300, Loss: 0.10957082360982894897\n",
      "Epoch 130/300, Loss: 0.11763459444046020508\n",
      "Epoch 131/300, Loss: 0.10342168062925338745\n",
      "Epoch 132/300, Loss: 0.10637650638818740845\n",
      "Epoch 133/300, Loss: 0.11039508134126663208\n",
      "Epoch 134/300, Loss: 0.10129383951425552368\n",
      "Epoch 135/300, Loss: 0.09935414046049118042\n",
      "Epoch 136/300, Loss: 0.10094555467367172241\n",
      "Epoch 137/300, Loss: 0.09625270962715148926\n",
      "Epoch 138/300, Loss: 0.09755589067935943604\n",
      "Epoch 139/300, Loss: 0.09697586297988891602\n",
      "Epoch 140/300, Loss: 0.09900506585836410522\n",
      "Epoch 141/300, Loss: 0.09494335204362869263\n",
      "Epoch 142/300, Loss: 0.09224709868431091309\n",
      "Epoch 143/300, Loss: 0.08931227773427963257\n",
      "Epoch 144/300, Loss: 0.09229117631912231445\n",
      "Epoch 145/300, Loss: 0.09046798944473266602\n",
      "Epoch 146/300, Loss: 0.09277094900608062744\n",
      "Epoch 147/300, Loss: 0.09790774434804916382\n",
      "Epoch 148/300, Loss: 0.08854829519987106323\n",
      "Epoch 149/300, Loss: 0.08545047789812088013\n",
      "Epoch 150/300, Loss: 0.08450844883918762207\n",
      "Epoch 151/300, Loss: 0.08448042720556259155\n",
      "Epoch 152/300, Loss: 0.08729141950607299805\n",
      "Epoch 153/300, Loss: 0.08323193341493606567\n",
      "Epoch 154/300, Loss: 0.07991822808980941772\n",
      "Epoch 155/300, Loss: 0.08190282434225082397\n",
      "Epoch 156/300, Loss: 0.07923543453216552734\n",
      "Epoch 157/300, Loss: 0.07669965922832489014\n",
      "Epoch 158/300, Loss: 0.07890686392784118652\n",
      "Epoch 159/300, Loss: 0.07562745362520217896\n",
      "Epoch 160/300, Loss: 0.07491327077150344849\n",
      "Epoch 161/300, Loss: 0.07856982946395874023\n",
      "Epoch 162/300, Loss: 0.08414893597364425659\n",
      "Epoch 163/300, Loss: 0.12149261683225631714\n",
      "Epoch 164/300, Loss: 0.12738840281963348389\n",
      "Epoch 165/300, Loss: 0.14936995506286621094\n",
      "Epoch 166/300, Loss: 0.13621975481510162354\n",
      "Epoch 167/300, Loss: 0.13168589770793914795\n",
      "Epoch 168/300, Loss: 0.12379840016365051270\n",
      "Epoch 169/300, Loss: 0.10363021492958068848\n",
      "Epoch 170/300, Loss: 0.10769142955541610718\n",
      "Epoch 171/300, Loss: 0.10439264029264450073\n",
      "Epoch 172/300, Loss: 0.10751217603683471680\n",
      "Epoch 173/300, Loss: 0.11171276867389678955\n",
      "Epoch 174/300, Loss: 0.13402767479419708252\n",
      "Epoch 175/300, Loss: 0.12076807022094726562\n",
      "Epoch 176/300, Loss: 0.17599974572658538818\n",
      "Epoch 177/300, Loss: 0.34833183884620666504\n",
      "Epoch 178/300, Loss: 0.11957491934299468994\n",
      "Epoch 179/300, Loss: 0.18364013731479644775\n",
      "Epoch 180/300, Loss: 0.14431697130203247070\n",
      "Epoch 181/300, Loss: 0.09089070558547973633\n",
      "Epoch 182/300, Loss: 0.09346346557140350342\n",
      "Epoch 183/300, Loss: 0.09290642291307449341\n",
      "Epoch 184/300, Loss: 0.06484489142894744873\n",
      "Epoch 185/300, Loss: 0.07276236265897750854\n",
      "Epoch 186/300, Loss: 0.06205773726105690002\n",
      "Epoch 187/300, Loss: 0.06300141662359237671\n",
      "Epoch 188/300, Loss: 0.06043881922960281372\n",
      "Epoch 189/300, Loss: 0.05795070528984069824\n",
      "Epoch 190/300, Loss: 0.05681497976183891296\n",
      "Epoch 191/300, Loss: 0.05530674010515213013\n",
      "Epoch 192/300, Loss: 0.05492836982011795044\n",
      "Epoch 193/300, Loss: 0.05381450057029724121\n",
      "Epoch 194/300, Loss: 0.05336230993270874023\n",
      "Epoch 195/300, Loss: 0.05271928384900093079\n",
      "Epoch 196/300, Loss: 0.05203659087419509888\n",
      "Epoch 197/300, Loss: 0.05186057090759277344\n",
      "Epoch 198/300, Loss: 0.05111166462302207947\n",
      "Epoch 199/300, Loss: 0.05120289698243141174\n",
      "Epoch 200/300, Loss: 0.05033418908715248108\n",
      "Epoch 201/300, Loss: 0.05036150664091110229\n",
      "Epoch 202/300, Loss: 0.04960270598530769348\n",
      "Epoch 203/300, Loss: 0.04921840503811836243\n",
      "Epoch 204/300, Loss: 0.04838271811604499817\n",
      "Epoch 205/300, Loss: 0.04764919355511665344\n",
      "Epoch 206/300, Loss: 0.04716925695538520813\n",
      "Epoch 207/300, Loss: 0.04657375812530517578\n",
      "Epoch 208/300, Loss: 0.04620006680488586426\n",
      "Epoch 209/300, Loss: 0.04577707871794700623\n",
      "Epoch 210/300, Loss: 0.04544733464717864990\n",
      "Epoch 211/300, Loss: 0.04503866285085678101\n",
      "Epoch 212/300, Loss: 0.04502066597342491150\n",
      "Epoch 213/300, Loss: 0.04443250596523284912\n",
      "Epoch 214/300, Loss: 0.04489829018712043762\n",
      "Epoch 215/300, Loss: 0.04466709867119789124\n",
      "Epoch 216/300, Loss: 0.04426196217536926270\n",
      "Epoch 217/300, Loss: 0.04570305347442626953\n",
      "Epoch 218/300, Loss: 0.04369851574301719666\n",
      "Epoch 219/300, Loss: 0.04365694895386695862\n",
      "Epoch 220/300, Loss: 0.04341680929064750671\n",
      "Epoch 221/300, Loss: 0.04146925359964370728\n",
      "Epoch 222/300, Loss: 0.04109033197164535522\n",
      "Epoch 223/300, Loss: 0.04175800085067749023\n",
      "Epoch 224/300, Loss: 0.04027678444981575012\n",
      "Epoch 225/300, Loss: 0.04093547910451889038\n",
      "Epoch 226/300, Loss: 0.04019893705844879150\n",
      "Epoch 227/300, Loss: 0.04008109495043754578\n",
      "Epoch 228/300, Loss: 0.04011483490467071533\n",
      "Epoch 229/300, Loss: 0.04083425179123878479\n",
      "Epoch 230/300, Loss: 0.04105435311794281006\n",
      "Epoch 231/300, Loss: 0.04345833510160446167\n",
      "Epoch 232/300, Loss: 0.04063288494944572449\n",
      "Epoch 233/300, Loss: 0.04008714854717254639\n",
      "Epoch 234/300, Loss: 0.04017218574881553650\n",
      "Epoch 235/300, Loss: 0.03813183307647705078\n",
      "Epoch 236/300, Loss: 0.03924690186977386475\n",
      "Epoch 237/300, Loss: 0.03893137723207473755\n",
      "Epoch 238/300, Loss: 0.04074699059128761292\n",
      "Epoch 239/300, Loss: 0.04285381734371185303\n",
      "Epoch 240/300, Loss: 0.04179776459932327271\n",
      "Epoch 241/300, Loss: 0.04456200078129768372\n",
      "Epoch 242/300, Loss: 0.04146346449851989746\n",
      "Epoch 243/300, Loss: 0.04198008403182029724\n",
      "Epoch 244/300, Loss: 0.04274032264947891235\n",
      "Epoch 245/300, Loss: 0.04323286190629005432\n",
      "Epoch 246/300, Loss: 0.04392933845520019531\n",
      "Epoch 247/300, Loss: 0.04474779218435287476\n",
      "Epoch 248/300, Loss: 0.03945393115282058716\n",
      "Epoch 249/300, Loss: 0.05173682421445846558\n",
      "Epoch 250/300, Loss: 0.04855550453066825867\n",
      "Epoch 251/300, Loss: 0.08318583667278289795\n",
      "Epoch 252/300, Loss: 0.06908677518367767334\n",
      "Epoch 253/300, Loss: 0.05230915173888206482\n",
      "Epoch 254/300, Loss: 0.06492583453655242920\n",
      "Epoch 255/300, Loss: 0.13405868411064147949\n",
      "Epoch 256/300, Loss: 0.09292341768741607666\n",
      "Epoch 257/300, Loss: 0.06490251421928405762\n",
      "Epoch 258/300, Loss: 0.06473513692617416382\n",
      "Epoch 259/300, Loss: 0.05349076539278030396\n",
      "Epoch 260/300, Loss: 0.04464794322848320007\n",
      "Epoch 261/300, Loss: 0.05743985623121261597\n",
      "Epoch 262/300, Loss: 0.05672798305749893188\n",
      "Epoch 263/300, Loss: 0.05688714236021041870\n",
      "Epoch 264/300, Loss: 0.05198366194963455200\n",
      "Epoch 265/300, Loss: 0.04703985527157783508\n",
      "Epoch 266/300, Loss: 0.04427865147590637207\n",
      "Epoch 267/300, Loss: 0.03636838868260383606\n",
      "Epoch 268/300, Loss: 0.03295220434665679932\n",
      "Epoch 269/300, Loss: 0.03087098151445388794\n",
      "Epoch 270/300, Loss: 0.03276202827692031860\n",
      "Epoch 271/300, Loss: 0.02936372347176074982\n",
      "Epoch 272/300, Loss: 0.02981929853558540344\n",
      "Epoch 273/300, Loss: 0.02943685278296470642\n",
      "Epoch 274/300, Loss: 0.02860631234943866730\n",
      "Epoch 275/300, Loss: 0.02866813726723194122\n",
      "Epoch 276/300, Loss: 0.02813572064042091370\n",
      "Epoch 277/300, Loss: 0.02799185365438461304\n",
      "Epoch 278/300, Loss: 0.02766250260174274445\n",
      "Epoch 279/300, Loss: 0.02757892571389675140\n",
      "Epoch 280/300, Loss: 0.02720461785793304443\n",
      "Epoch 281/300, Loss: 0.02694110758602619171\n",
      "Epoch 282/300, Loss: 0.02725601196289062500\n",
      "Epoch 283/300, Loss: 0.02670961059629917145\n",
      "Epoch 284/300, Loss: 0.02688615396618843079\n",
      "Epoch 285/300, Loss: 0.02618899568915367126\n",
      "Epoch 286/300, Loss: 0.02653005160391330719\n",
      "Epoch 287/300, Loss: 0.02606929838657379150\n",
      "Epoch 288/300, Loss: 0.02646305225789546967\n",
      "Epoch 289/300, Loss: 0.02558851242065429688\n",
      "Epoch 290/300, Loss: 0.02659719064831733704\n",
      "Epoch 291/300, Loss: 0.02528054825961589813\n",
      "Epoch 292/300, Loss: 0.02628834359347820282\n",
      "Epoch 293/300, Loss: 0.02507018670439720154\n",
      "Epoch 294/300, Loss: 0.02642334438860416412\n",
      "Epoch 295/300, Loss: 0.02512511238455772400\n",
      "Epoch 296/300, Loss: 0.02750349231064319611\n",
      "Epoch 297/300, Loss: 0.02496268413960933685\n",
      "Epoch 298/300, Loss: 0.02562923170626163483\n",
      "Epoch 299/300, Loss: 0.02466330118477344513\n",
      "Epoch 300/300, Loss: 0.02428101748228073120\n"
     ]
    },
    {
     "data": {
      "image/png": "[encoded data removed]",
      "text/plain": [
       "<Figure size 1000x500 with 1 Axes>"
      ]
     },
     "metadata": {},
     "output_type": "display_data"
    }
   ],
   "source": [
    "losses=[]\n",
    "## Train the model\n",
    "num_epochs = 300\n",
    "\n",
    "for epoch in range(num_epochs):\n",
    "    epoch_loss = 0.0\n",
    "    for batch in dataloader:\n",
    "        inputs, labels = batch\n",
    "        # print(inputs)\n",
    "        # print(inputs.squeeze(0))\n",
    "        ## Forward pass\n",
    "        outputs = model(inputs.squeeze(0).to(device))\n",
    "        # print(inputs.squeeze(0).size(),outputs.size(),labels.view(-1).size())\n",
    "        # print(inputs.squeeze(0))\n",
    "        # print(labels.view(-1))\n",
    "        # print(outputs)\n",
    "        \n",
    "        ## Compute the loss\n",
    "        loss = loss_fn(outputs.to(device), labels.view(-1).to(device))\n",
    "        \n",
    "        ## Backward pass\n",
    "        loss.backward()\n",
    "        optimizer.step()\n",
    "        optimizer.zero_grad()\n",
    "\n",
    "        losses.append(loss.to(\"cpu\").detach().numpy())\n",
    "\n",
    "    if (epoch+1) % 1 == 0:\n",
    "        print(f'Epoch {epoch+1}/{num_epochs}, Loss: {loss/len(inputs):.20f}')\n",
    "    elif loss<0.00000000001:\n",
    "        break\n",
    "\n",
    "\n",
    "plt.figure(figsize=(10, 5))\n",
    "plt.plot(losses, label='Training Loss')\n",
    "plt.xlabel('Epoch')\n",
    "plt.ylabel('Loss')\n",
    "plt.title('Training Loss vs Epoch')\n",
    "plt.legend()\n",
    "plt.grid(True)\n",
    "plt.show()\n"
   ]
  },
  {
   "cell_type": "code",
   "execution_count": 112,
   "metadata": {},
   "outputs": [
    {
     "name": "stdout",
     "output_type": "stream",
     "text": [
      "Training Set: The Porto Tram Museum (Museu do Carro Eléctrico) is a museum operated by the Sociedade de Transportes Colectivos do Porto. It was inaugurated in 1992 and is installed \n",
      "in a former thermoelectric power station next to the River Douro in Massarelos, Porto, Portugal. It exhibits material related to the history of trams in Porto.\n",
      "--------------------\n",
      "Prompt: The Porto Tram Museum (museu do carro eléctrico) is a museum operated\n",
      "--------------------\n",
      "Cahtbot Answer: by the sociedade de transportes colectivos do porto. it was inaugurated in 1992 and is installed in a former thermoelectric power station next to the river douro in massarelos, porto, portugal. it exhibits material related to the history of trams in porto. the collection contains 16 electric cars, 5 trailers, and two maintenance vehicles as well as a former equipment of the power plant, which provided electricity for the tram lines. == the building == the construction of the building as a power plant was completed in 1915. it consists of two large halls that were, respectively, the hall for the steam generators (boilers) and the engine room. until the 1940s the power station produced enough energy to power the tram network. however, with the increase in the number of electric cars in circulation, the trams became partially dependent on the city's power supply and in the 1960s energy production at the plant ceased, although it continues to operate as a substation for the three remaining tram lines. the museum was opened on the site in may 1992. one hall of the building houses the trams and the other the electrical equipment. an additional shed houses the trams that are still used on a daily basis. the museum closed in december 2012, re-opening in november 2015 after repairs costing around one million euros. == the collection == the museum's collection consists of the following cars. a parade of many of the cars in the collection is not a trailer car 1.\n"
     ]
    }
   ],
   "source": [
    "# The Porto Tram Museum (Museu do Carro Eléctrico) is a museum operated by the Sociedade de Transportes Colectivos do Porto\n",
    "# \"The rabelo boat is a traditional Portuguese wooden cargo boat that was used for centuries to transport people and goods along the Douro River.  It is flat-bottomed, with a shallow draught, \n",
    "prompt = \"The Porto Tram Museum (museu do carro eléctrico) is a museum operated\"\n",
    "prompt_listed = list(prompt.split())\n",
    "for p in prompt_listed:\n",
    "    prompt_tokenized = torch.tensor([tokens_to_id[token.lower()] for token in prompt_listed])\n",
    "\n",
    "\n",
    "## Now get get predictions from the model\n",
    "predictions = model(prompt_tokenized.to(device)) \n",
    "predicted_id = torch.tensor([torch.argmax(predictions[-1,:])])\n",
    "predicted_ids = predicted_id\n",
    "max_length=250\n",
    "for i in range(max_length):\n",
    "\n",
    "    if (predicted_id == tokens_to_id[\"<EOS>\"]): # if the prediction is <EOS>, then we are done\n",
    "        break\n",
    "    \n",
    "    prompt_tokenized = torch.cat((prompt_tokenized, predicted_id))\n",
    "    \n",
    "    predictions = model(prompt_tokenized.to(device)) \n",
    "    predicted_id = torch.tensor([torch.argmax(predictions[-1,:])])\n",
    "    predicted_ids = torch.cat((predicted_ids, predicted_id))\n",
    "        \n",
    "## Now printout the predicted output phrase.\n",
    "answer = []\n",
    "for id in predicted_ids: \n",
    "    answer.append(id_to_token[id.item()])\n",
    "\n",
    "# The rabelo boat is a traditional Portuguese wooden cargo boat that was used for centuries to transport people and goods along the Douro River.  It is flat-bottomed, with a shallow draught, which was necessary to navigate the often shallow fast-flowing waters of the upper Douro prior to the construction of dams and locks from 1968 onwards.\n",
    "print(\"Training Set: \"+ \"The Porto Tram Museum (Museu do Carro Eléctrico) is a museum operated by the Sociedade de Transportes Colectivos do Porto. It was inaugurated in 1992 and is installed \\nin a former thermoelectric power station next to the River Douro in Massarelos, Porto, Portugal. It exhibits material related to the history of trams in Porto.\")\n",
    "print(\"--------------------\")\n",
    "print(\"Prompt: \"+prompt)\n",
    "print(\"--------------------\")\n",
    "print(\"Cahtbot Answer: \"+\" \".join(answer))"
   ]
  },
  {
   "cell_type": "markdown",
   "metadata": {},
   "source": [
    "# 10. Save the Model"
   ]
  },
  {
   "cell_type": "code",
   "execution_count": 100,
   "metadata": {},
   "outputs": [],
   "source": [
    "model_path = \"simple_model.pth\""
   ]
  },
  {
   "cell_type": "code",
   "execution_count": 101,
   "metadata": {},
   "outputs": [],
   "source": [
    "\n",
    "torch.save(model.state_dict(), model_path)\n",
    "\n",
    "# Para também salvar o otimizador e outras informações\n",
    "checkpoint = {\n",
    "    'epoch': epoch,\n",
    "    'model_state_dict': model.state_dict(),\n",
    "    'optimizer_state_dict': optimizer.state_dict(),\n",
    "    'loss': loss,\n",
    "}\n",
    "torch.save(checkpoint, \"simple_model_checkpoint.pth\")"
   ]
  },
  {
   "cell_type": "markdown",
   "metadata": {},
   "source": [
    "# 11. Load the Model"
   ]
  },
  {
   "cell_type": "code",
   "execution_count": 102,
   "metadata": {},
   "outputs": [
    {
     "name": "stdout",
     "output_type": "stream",
     "text": [
      "DecoderOnlyTransformer(\n",
      "  (we): Embeddings(\n",
      "    (embeddings): Embedding(74732, 2000)\n",
      "  )\n",
      "  (pe): PositionEncoding()\n",
      "  (self_attention): Attention(\n",
      "    (W_q): Linear(in_features=2000, out_features=2000, bias=False)\n",
      "    (W_k): Linear(in_features=2000, out_features=2000, bias=False)\n",
      "    (W_v): Linear(in_features=2000, out_features=2000, bias=False)\n",
      "  )\n",
      "  (fc_layer): Linear(in_features=2000, out_features=74732, bias=True)\n",
      "  (loss): CrossEntropyLoss()\n",
      ")\n",
      "Adam (\n",
      "Parameter Group 0\n",
      "    amsgrad: False\n",
      "    betas: (0.9, 0.999)\n",
      "    capturable: False\n",
      "    differentiable: False\n",
      "    eps: 1e-08\n",
      "    foreach: None\n",
      "    fused: None\n",
      "    lr: 0.0001\n",
      "    maximize: False\n",
      "    weight_decay: 0\n",
      ")\n",
      "Start epoch: 299\n",
      "Loss: 0.02428101748228073\n"
     ]
    }
   ],
   "source": [
    "# Carregando o modelo\n",
    "loaded_model = DecoderOnlyTransformer().to(device)\n",
    "loaded_model.load_state_dict(torch.load(model_path))\n",
    "loaded_model.eval()  # Coloca o modelo em modo de avaliação\n",
    "\n",
    "# Para carregar o checkpoint completo\n",
    "checkpoint = torch.load(\"simple_model_checkpoint.pth\")\n",
    "loaded_model.load_state_dict(checkpoint['model_state_dict'])\n",
    "optimizer.load_state_dict(checkpoint['optimizer_state_dict'])\n",
    "start_epoch = checkpoint['epoch']\n",
    "loss = checkpoint['loss']\n",
    "\n",
    "# Confirme que os estados foram carregados corretamente\n",
    "print(loaded_model)\n",
    "print(optimizer)\n",
    "print(f\"Start epoch: {start_epoch}\")\n",
    "print(f\"Loss: {loss}\")"
   ]
  },
  {
   "cell_type": "markdown",
   "metadata": {},
   "source": [
    "## 11.1. Test Loaded Model"
   ]
  },
  {
   "cell_type": "code",
   "execution_count": 5,
   "metadata": {},
   "outputs": [],
   "source": [
    "prompt = \"The Porto Tram Museum (museu do carro eléctrico) is a museum operated\"\n",
    "prompt_listed = list(prompt.split())\n",
    "for p in prompt_listed:\n",
    "    prompt_tokenized = torch.tensor([tokens_to_id[token.lower()] for token in prompt_listed])\n",
    "\n",
    "\n",
    "## Now get get predictions from the model\n",
    "predictions = loaded_model(prompt_tokenized.to(device))\n",
    "predicted_id = torch.tensor([torch.argmax(predictions[-1,:])])\n",
    "predicted_ids = predicted_id\n",
    "max_length=1000\n",
    "for i in range(max_length):\n",
    "\n",
    "    if (predicted_id == tokens_to_id[\"<EOS>\"]): # if the prediction is <EOS>, then we are done\n",
    "        break\n",
    "    \n",
    "    prompt_tokenized = torch.cat((prompt_tokenized, predicted_id))\n",
    "    \n",
    "    predictions = loaded_model(prompt_tokenized.to(device)) \n",
    "    predicted_id = torch.tensor([torch.argmax(predictions[-1,:])])\n",
    "    predicted_ids = torch.cat((predicted_ids, predicted_id))\n",
    "        \n",
    "## Now printout the predicted output phrase.\n",
    "answer = []\n",
    "for id in predicted_ids: \n",
    "    answer.append(id_to_token[id.item()])\n",
    "\n",
    "# The rabelo boat is a traditional Portuguese wooden cargo boat that was used for centuries to transport people and goods along the Douro River.  It is flat-bottomed, with a shallow draught, which was necessary to navigate the often shallow fast-flowing waters of the upper Douro prior to the construction of dams and locks from 1968 onwards.\n",
    "print(\"The Porto Tram Museum (Museu do Carro Eléctrico) is a museum operated by the Sociedade de Transportes Colectivos do Porto. It was inaugurated in 1992 and is installed \\nin a former thermoelectric power station next to the River Douro in Massarelos, Porto, Portugal. It exhibits material related to the history of trams in Porto.\")\n",
    "print(prompt)\n",
    "\" \".join(answer)"
   ]
  },
  {
   "cell_type": "code",
   "execution_count": null,
   "metadata": {},
   "outputs": [],
   "source": []
  }
 ],
 "metadata": {
  "kernelspec": {
   "display_name": "Python 3",
   "language": "python",
   "name": "python3"
  },
  "language_info": {
   "codemirror_mode": {
    "name": "ipython",
    "version": 3
   },
   "file_extension": ".py",
   "mimetype": "text/x-python",
   "name": "python",
   "nbconvert_exporter": "python",
   "pygments_lexer": "ipython3",
   "version": "3.12.4"
  }
 },
 "nbformat": 4,
 "nbformat_minor": 2
}
