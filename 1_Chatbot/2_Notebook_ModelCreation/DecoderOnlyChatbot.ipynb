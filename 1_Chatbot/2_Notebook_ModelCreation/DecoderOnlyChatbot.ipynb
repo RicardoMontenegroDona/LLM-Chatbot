{
 "cells": [
  {
   "cell_type": "markdown",
   "metadata": {},
   "source": [
    "# 0. Imports"
   ]
  },
  {
   "cell_type": "code",
   "execution_count": 1,
   "metadata": {},
   "outputs": [
    {
     "name": "stdout",
     "output_type": "stream",
     "text": [
      "Dispositivo disponível: cuda\n"
     ]
    }
   ],
   "source": [
    "import os\n",
    "\n",
    "import pandas as pd\n",
    "import numpy as np\n",
    "\n",
    "import torch\n",
    "import torch.nn as nn ## torch.nn gives us nn.Module(), nn.Embedding() and nn.Linear()\n",
    "import torch.nn.functional as F # This gives us the softmax() and argmax()\n",
    "from torch.optim import Adam \n",
    "from torch.utils.data import TensorDataset, DataLoader\n",
    "\n",
    "from sklearn.metrics.pairwise import cosine_similarity\n",
    "\n",
    "import matplotlib.pyplot as plt\n",
    "\n",
    "device = torch.device(\"cuda\" if torch.cuda.is_available() else \"cpu\")\n",
    "print(f\"Dispositivo disponível: {device}\")\n",
    "\n",
    "import warnings\n",
    "warnings.filterwarnings(\"ignore\")"
   ]
  },
  {
   "cell_type": "code",
   "execution_count": 2,
   "metadata": {},
   "outputs": [],
   "source": [
    "# Define a function to pad sequences to a specified length\n",
    "def pad_sequences(sequences, max_len, pad_token):\n",
    "    padded_sequences = []\n",
    "    for seq in sequences:\n",
    "        if len(seq) < max_len:\n",
    "            seq.extend([pad_token] * (max_len - len(seq)))\n",
    "        padded_sequences.append(seq)\n",
    "    return padded_sequences"
   ]
  },
  {
   "cell_type": "markdown",
   "metadata": {},
   "source": [
    "# 1. Dataset"
   ]
  },
  {
   "cell_type": "code",
   "execution_count": 3,
   "metadata": {},
   "outputs": [
    {
     "data": {
      "text/html": [
       "<div>\n",
       "<style scoped>\n",
       "    .dataframe tbody tr th:only-of-type {\n",
       "        vertical-align: middle;\n",
       "    }\n",
       "\n",
       "    .dataframe tbody tr th {\n",
       "        vertical-align: top;\n",
       "    }\n",
       "\n",
       "    .dataframe thead th {\n",
       "        text-align: right;\n",
       "    }\n",
       "</style>\n",
       "<table border=\"1\" class=\"dataframe\">\n",
       "  <thead>\n",
       "    <tr style=\"text-align: right;\">\n",
       "      <th></th>\n",
       "      <th>Final</th>\n",
       "    </tr>\n",
       "  </thead>\n",
       "  <tbody>\n",
       "    <tr>\n",
       "      <th>0</th>\n",
       "      <td>The Porto Tram Museum (Museu do Carro Eléctric...</td>\n",
       "    </tr>\n",
       "    <tr>\n",
       "      <th>1</th>\n",
       "      <td>The rabelo boat is a traditional Portuguese wo...</td>\n",
       "    </tr>\n",
       "    <tr>\n",
       "      <th>2</th>\n",
       "      <td>STCP (Sociedade de Transportes Colectivos do P...</td>\n",
       "    </tr>\n",
       "    <tr>\n",
       "      <th>3</th>\n",
       "      <td>The tram system of Porto in Portugal is operat...</td>\n",
       "    </tr>\n",
       "    <tr>\n",
       "      <th>4</th>\n",
       "      <td>The FC Porto Museum, officially known as FC Po...</td>\n",
       "    </tr>\n",
       "  </tbody>\n",
       "</table>\n",
       "</div>"
      ],
      "text/plain": [
       "                                               Final\n",
       "0  The Porto Tram Museum (Museu do Carro Eléctric...\n",
       "1  The rabelo boat is a traditional Portuguese wo...\n",
       "2  STCP (Sociedade de Transportes Colectivos do P...\n",
       "3  The tram system of Porto in Portugal is operat...\n",
       "4  The FC Porto Museum, officially known as FC Po..."
      ]
     },
     "execution_count": 3,
     "metadata": {},
     "output_type": "execute_result"
    }
   ],
   "source": [
    "# get always the right paths even if the code is ran in another computer\n",
    "directory = os.getcwd()\n",
    "current_directory = os.path.dirname(directory)\n",
    "\n",
    "# import datafrae\n",
    "df = pd.read_excel(current_directory+\"\\\\1_Data\\\\Porto_DB.xlsx\").drop(columns=[\"Unnamed: 0\"],axis=1)[:11]\n",
    "\n",
    "# add allways and EOS (End of Sentence) token at the end of each text\n",
    "df[\"Final\"] = df[\"Final\"].apply(lambda x: x+\" <EOS>\")\n",
    "\n",
    "df.head()"
   ]
  },
  {
   "cell_type": "markdown",
   "metadata": {},
   "source": [
    "# 2. Tokenizer"
   ]
  },
  {
   "cell_type": "markdown",
   "metadata": {},
   "source": [
    "## 2.1. Data to Tokenize"
   ]
  },
  {
   "cell_type": "code",
   "execution_count": 4,
   "metadata": {},
   "outputs": [
    {
     "data": {
      "text/plain": [
       "'The Porto Tram Museum (Museu do Carro Eléctrico) is a museum operated by the Sociedade de Transportes Colectivos do Porto. It was inaugurated in 1992 and is installed in a former thermoelectric power station next to the River Douro in Massarelos, Porto, Portugal. It exhibits material related to the history of trams in Porto. The collection contains 16 electric cars, 5 trailers, and two maintenance vehicles as well as the former equipment of the power plant, which provided electricity for the tram lines.\\n\\n\\n== The building ==\\nThe construction of the building as a power plant was completed in 1915. It consists of two large halls that were, respectively, the hall for the steam generators (boilers) and the engine room. Until the 1940s the power station produced enough energy to power the tram network. However, with the increase in the number of electric cars in circulation, the trams became partially dependent on the city\\'s power supply and in the 1960s energy production at the plant ceased, although it continues to operate as a substation for the three remaining tram lines. The museum was opened on the site in May 1992. One hall of the building houses the trams and the other the electrical equipment. An additional shed houses the trams that are still used on a daily basis. The museum closed in December 2012, re-opening in November 2015 after repairs costing around one million Euros.\\n\\n\\n== The collection ==\\nThe museum\\'s collection consists of the following cars. A parade of many of the cars in the collection is held in Porto annually.\\n\\nTrailer Car 1. This car was probably built by the company \"A Constructora\". It was acquired by the Companhia Carris de Ferro do Porto in the first decade of the 20th century.\\nTrailer Car 8. This is a horse-drawn tram purchased from Starbuck Car and Wagon Company of Birkenhead, England. This type of vehicle was first used in Porto on May 15, 1872. It has also been used as a trailer for steam and electric engines.\\n\\nTrailer Car 18. This was built in the workshops of Companhia Carris de Ferro do Porto in 1934, and was used until the 1960s. Its windows were removed in the summer months, allowing smoking in the inside, which gave it the name of \"smoker\".\\nTrailer Car 25. This vehicle was designed and built as a trailer in the workshops of the Sociedade de Transportes Colectivos do Porto in the late 1940s. Later it also circulated as an electric car.\\nElectric Car 22. Built by the Starbuck Car and Wagon Company, this vehicle was initially a trailer car. With the development of electric traction in 1895, it was motorized and started to circulate as an electric car. It was restored in 1992 according to its original design.\\nElectric Car 100. This is a 1995 replica of a vehicle built in the first decade of the 20th century, which was destroyed in a large fire at Boavista station in Porto in February 1928. This, and car No. 104, can be hired for social events.\\nElectric Car 104. This vehicle is a replica with the same numbering and characteristics of an electric car that circulated initially as a trailer but, after 1895, was motorized. It was used until 1980. The construction of the replica was done in 1994.\\nElectric Car 163. This car features characteristics similar to those of the cars that were produced by the American J. G. Brill Company. However, its origin and date of manufacture are unknown.\\nElectric Car 247. This car was known by the name of \"English car\" because it was manufactured by the British United Electric Car Company of Preston. It was acquired by Companhia Carris de Ferro do Porto in 1909 and underwent several changes that removed some of its original characteristics.\\n\\nElectric Car 250. This car belonged to a series of 12 vehicles built in the workshops of Companhia Carris de Ferro do Porto in 1927. Circulating until 1981 these vehicles were called \"Italian cars\" because they were equipped with engines of the Compagnia Generale di Elettricità in Italy.\\nElectric Car 267. This vehicle was built in the <EOS>\\nThe rabelo boat is a traditional Portuguese wooden cargo boat that was used for centuries to transport people and goods along the Douro River.  It is flat-bottomed, with a shallow draught, which was necessary to navigate the often shallow fast-flowing waters of the upper Douro prior to the construction of dams and locks from 1968 onwards.\\nNative to the Douro region, it does not exist in any other place in the world. Its history is closely linked to the production and trade of port wine. Before the arrival of the Linha do Douro railway, the rabelo was the fastest and the most efficient means of transport between the Douro Valley, where port wine is produced, and the city of Porto, where it was traded and exported worldwide.\\nThe name rabelo means \\'little tail\\', on account of the long timber projection from the rear of the boat which is used to steer the vessel. Although not in commercial use anymore, these vessels may still be seen, belonging to port wine companies, along the river in Porto and Gaia.\\nEvery year on June 24, St John\\'s Day, a race of rabelo boats is held, an important and popular part of the festivities of Porto, the Festa de São João do Porto.\\n\\n\\n== References ==\\n\\n\\n== External links ==\\n Media related to Rabelos at Wikimedia Commons\\n\\n/ Municipality of V.N. Gaia\\n/ Municipality of Peso da Régua <EOS>\\nSTCP (Sociedade de Transportes Colectivos do Porto, E.I.M., S.A., lit. Porto Public Transport Society) is the public transport company that runs the bus and tram service in Greater Porto, Portugal. Created in 1946, it took over the Porto tram system from its privately owned predecessor and continues to operate it today, but the formerly large tram system now has only three lines, which are heritage tram lines, and the STCP network is now mostly bus service.  STCP does not operate the city\\'s light rail system, Porto Metro, but owns 25% of it. It is a public company controlled by a board responsible to the central government and had about 1,500 employees in 2009. STCP operates 83 bus routes – of which 11 are late-night-only routes – and the bus service covers 539 km of routes.\\n\\n\\n== History ==\\nSTCP\\'s name originally was Serviço de Transportes Colectivos do Porto. It was created in 1946, when the municipality took over the Companhia Carris de Ferro do Porto (CCFP) (the Porto Tramways Company), which had been in operation since 1873 and, apart from a brief period in 1907–08, had provided all public transport service in Porto since 1893. The municipal government purchased CCFP under a contract option accepted by the private company in 1906.  An operating concession granted to the company at that time gave it an exclusive franchise to operate public transport in Porto but included an option allowing the city to purchase the system after 35 years. It did so in 1946, adopting the name Serviço de Transportes Colectivos do Porto for the new municipal authority.  In addition to trams and buses, STCP\\'s service included trolleybuses from 1959 to 1997.\\nIn 1994, STCP became a Sociedade Anónima (limited liability company), and the first word of its name was changed to \"Sociedade\".\\n\\n\\n== Fleet ==\\nSTCP\\'s fleet includes natural gas and hybrid buses.  The company has a small R&D group that has developed technologies to support the eco-friendly fleet, like a pump for natural gas with higher throughput. This enabled buses to spend a smaller time at the pumps refilling.\\nAs of 2009, low-floor vehicles comprise 92% of STCP\\'s fleet, and 73% of the fleet is air-conditioned. The fleet also included 15 double-decker buses at that time. The company is migrating its fleet to use the Andante ticketing system.\\n\\n\\n== See also ==\\nPorto Metro\\nTrams in Porto\\nPorto Tram Museum\\n\\n\\n== References ==\\n\\n\\n== External links ==\\nSTCP official webpage (in Portuguese)\\nSTCP official website (English)\\nTourist information on STCP buses and trams\\nTram Travels: Sociedade de Transportes Colectivos do Porto (STCP) <EOS>\\nThe tram system of Porto in Portugal is operated by the Sociedade de Transportes Colectivos do Porto (STCP) and currently has three regular tram routes with 30-minute headways.  All are heritage tram routes, as they use vintage tramcars exclusively, and should not be confused with the modern Porto Metro light rail system.\\n\\n\\n== History ==\\nIn 1872 the Companhia Carril Americano do Porto à Foz e Mattosinhos opened the first mule tram line in Porto, connecting Rua dos Inglezes (nowadays Infante) with Foz (Castelo) and Matosinhos. In the next year, a branch line from Massarelos to Cordoaria was opened. A second company, the Companhia Carris de Ferro do Porto (CCFP) (the Porto Tramways Company), was established in 1873, and it opened a line from Praça Carlos Alberto via Boavista to Foz (Cadouços) in 1874. More lines were added through the 1870s until the 1890s. In 1878 the CCFP line from Foz to Boavista was converted to steam traction. At Boavista was the change of traction between mules and steam engines. Four years later, the interurban line of the CCFP was extended from Foz (Cadouços) to Matosinhos. CCAPFM and CCFP merged on 13 January 1893, using the latter\\'s name for the resulting company. Electric traction was introduced in 1895. The last mule-drawn car was retired in 1904, and electrification was complete with the elimination of urban steam engines in 1914.\\nIn 1946, the city purchased the tram system from CCFP and took over its operation, with a new municipal company, Serviço de Transportes Colectivos do Porto (STCP). By 1949, it reached its maximum length of 81 kilometers with 150 kilometers track length. The 1960s and the 1970s were marked by a continuous dismantling of tram tracks and a preference for cheaper bus transport. The system shrank from 81 kilometers with 192 cars in 1958, to 38 kilometers with 127 cars in 1968, to 21 kilometers with 84 cars in 1978, to just 14 kilometers with 16 cars in 1996. The last remaining line (18) was the start of the current heritage tram system.\\nFor many years, the system had more than 20 lines, but most were closed during the 1960s and 1970s.:\\u200a45–47\\u200a  By July 1978, only four routes remained: 1, 3, 18 and 19. Route 3 (Boavista – Pereiró) closed on 30 April 1984.  For almost 10 more years, the three remaining routes continued in operation without any closures, as routes 1 (Infante – Matosinhos), 18 (Carmo – Castelo do Queijo – Boavista) and 19 (Boavista – Matosinhos).:\\u200a46\\u200a  The section from Castelo do Queijo to Matosinhos was closed on 11 September 1993 with the withdrawal of route 19 and of that section of route 1.  The remainder of route 1, between Castelo do Queijo and Infante, was withdrawn on 10 September 1994.:\\u200a46\\u200a  On 11 June 1996, the final route, 18, was downgraded from a full-service tram line to a heritage service with reduced frequency, but operating seven days a week.  Buses took over most of the service on the route at that time, but with trams continuing to operate some trips, as a heritage service.  The service used only three trams, operating on a 35-minute headway. Route 18\\'s 4 km section along Avenida Boavista was later closed, but tram service was gradually re-introduced in the 2000s on other sections, in the form of additional heritage-tram services, lines 1 and 22, as well as the former Line T (the Porto Tram City Tour, which has since been discontinued).\\n\\n\\n== Heritage system ==\\n\\n\\n=== Lines ===\\n\\nTram fares are paid with a customized ticket that can be bought on board of the vehicle, on the Museum and in some hotels. The fare for a single trip is € 3.50.\\n\\nLine 1: Passeio Alegre-Infante follows the northern bank of the Douro River from Infante, via Alfândega and Massarelos, to Passeio Alegre in Foz do Douro. This line is heavily used by tourists.\\nLine 18: Massarelos-Carmo: connects Massarelos (site of the Tram Museum) via Rua da Restauração with Carmo (Praça Parada Leitão) next to the Rectory of the University of Porto.\\nLine 22: Circular Carmo-Batalha: connects Carmo  <EOS>\\nThe FC Porto Museum, officially known as FC Porto Museum by BMG (Portuguese: Museu do Futebol Clube do Porto by BMG) for sponsorship reasons, is a museum located in Porto, dedicated to the history of the Portuguese association football club FC Porto. It was inaugurated on 28 September 2013, on occasion of the club\\'s 120th anniversary, and opened its doors to the general public on 26 October.\\nConceived and constructed by Sibina Partners (Barcelona) and MUSE (London),  the museum occupies an area of almost 8,000 square metres (86,000 sq ft) under the east stand of the Estádio do Dragão. It contains 27 thematic areas with a strong interactive and technologic component, which showcase the club\\'s historical events, matches, titles, managers and players, not only in football but in other sections, including handball, basketball and roller hockey.  The central and dominant space features the club\\'s large collection of domestic football silverware as well as its seven international trophies.\\nThe museum also includes an auditorium, a club store, a coffeehouse, and spaces for educational services and temporary exhibitions. The Valquíria Dragão (Dragon Valkyrie), an exclusive work by Portuguese artist Joana Vasconcelos, which incorporates club textiles and trophies, welcomes visitors at the museum\\'s entrance.\\n\\n\\n== References ==\\n\\n\\n== External links ==\\nOfficial website <EOS>\\nThe Porto Marathon is an annual marathon race in the city of Porto, Portugal, held in October or November, since 2004.\\nAlong with the marathon, several races of shorter distances are arranged as well. The marathon is sponsored by Energias de Portugal. \\nIn 2009, 857 athletes competed the marathon. In 2010, 1180 athletes competed the marathon. In 2013, 2755 athletes competed the marathon, becoming the largest marathon in Portugal.\\nThe 2020 edition of the race was postponed to 2021 due to the coronavirus pandemic, with all registrants given the option of transferring their entry to another runner or to 2022.\\n\\n\\n== Winners and finishers ==\\nKey: \\n  Course record\\n\\n\\n== Gallery ==\\n\\n\\t\\t\\n\\t\\t\\t\\n\\t\\t\\t\\n\\t\\t\\n\\t\\t\\n\\t\\t\\t\\n\\t\\t\\t\\n\\t\\t\\n\\t\\t\\n\\t\\t\\t\\n\\t\\t\\t\\n\\t\\t\\n\\t\\t\\n\\t\\t\\t\\n\\t\\t\\t\\n\\t\\t\\n\\t\\t\\n\\t\\t\\t\\n\\t\\t\\t\\n\\t\\t\\n\\n\\n== Notes ==\\n\\n\\n== References ==\\n\\n\\n== External links ==\\nOfficial website <EOS>\\nThe Artist and the City (Portuguese: O Pintor e a Cidade) is a 1956 short Portuguese documentary film directed by Manoel de Oliveira. The film shows a series of watercolor paintings by Portuguese artist António Cruz of what he sees while walking through different parts of the city of Porto. It was the first color film directed by Oliveira. Oliveira considers it forms a trilogy about the Douro and Porto, with Douro, Faina Fluvial and Aniki-Bóbó\\n\\n\\n== References ==\\n\\n\\n== External links ==\\nThe Artist and the City at IMDb <EOS>\\nFrancesinha (Portuguese pronunciation: [fɾɐ̃sɨˈziɲɐ] meaning little French woman) is a Portuguese sandwich, originally from Porto, made with layers of toasted bread and assorted hot meats such as roast, steak, wet-cured ham, linguiça, or chipolata over which sliced cheese is melted by the ladling of a near-boiling tomato-and-beer sauce called molho de francesinha. It is typically served with french fries.\\n\\n\\n== History ==\\n\\nThe Francesinha is a twentieth-century creation attributed to Daniel David de Silva who, upon returning to Portugal from time spent in France and Belgium, tried to adapt the croque-monsieur to Portuguese tastes. In 1953 he introduced a sandwich with local meats and a custom beer-and-tomato sauce at A Regaleira, a restaurant in Rua do Bonjardim in Porto. The francesinha quickly became a popular dish, and while it remains associated with the city, it can now be found throughout Portugal.\\n\\n\\n== Variations ==\\n\\nThere is no standard recipe for the francesinha. Different restaurants in Portugal have special variations, such as:\\n\\nCafé Barcarola (Porto): Francesinha à Barcarola - A Francesinha Especial with prawns and shrimp;\\nCafé Ábaco (Porto): Francesinha de carne assada - A Francesinha Especial with roast pork;\\nA Cascata (Porto): Francesinha à Cascata - A Francesinha Especial with mushrooms and cream;\\nThe francesinha especial (special francesinha) is a francesinha with egg and/or potato chips. Other variations of the original include fillings such as pork, chicken, pastrami, tuna, cod and vegetarian options.\\n\\n\\n=== Sauce ===\\nFrancesinha sauce varies, with each establishment having its variation. The only common ingredient is beer. Most, though not all, sauces are tomato based and vary in their degree of spiciness. The colour is usually red or orange. \\n\\n\\n=== Regional variants ===\\n\\nFrancesinha poveira is a form of francesinha distinctive to Póvoa de Varzim, north of Porto, created in the early 1960s. The poveira form uses different bread and sauce to form a sandwich that can be eaten by hand.\\nPica-pau is a breadless variant in which a steak is cut into bite-sized pieces and covered with sauce. The name pica-pau (woodpecker) references the traditional means of consumption with small skewers or toothpicks—making the diner \"peck\" at the dish.\\n\\n\\n== Reception ==\\nThe Daily Meal included the francesinha in their article \"12 Life-Changing Sandwiches You\\'ve Never Heard Of\".\\n\\n\\n== See also ==\\n\\nCroque-monsieur\\nPorto\\nPortuguese cuisine\\nList of sandwiches\\n\\n\\n== References ==\\n\\n\\n== Further reading ==\\n\"How to Pronounce Francesinha\". Forvo.\\nIzabela Cardosa (20 Oct 2019). \"Portugal\\'s most iconic sandwich was named after a French traveler in the 1950s\" (Video with transcript). Business Insider.\\nNina Santos (8 Jun 2017). \"11 Things You Should Never Say in Porto\". Culture Trip.\\nKevin Gould (8 Aug 2016). \"Porto\\'s francesinha sandwich is a gut buster\". The Guardian.\\nBrenna Holeman (18 Jan 2014). \"Trying Francesinha in Porto\". This Battered Suitcase.\\n\\n\\n== External links ==\\n\\n(in Portuguese) Francesinhas - History of the Francesinha Archived 2007-01-13 at the Wayback Machine\\n(in Portuguese) Francesinha Póveira\\n(in Portuguese) Irmandade da Francesinha - Ranking and evaluation of Francesinhas <EOS>\\nHa-Lapid (Hebrew: הלפיד) (lit. \"The Torch\" in Hebrew) was a Portuguese newspaper, part of the Jewish Community of Porto, founded in 1927 and published until 1958.\\n\\n\\n== History ==\\nIt was founded and directed by Artur Carlos de Barros Basto (Hebrew name: Abraham Israel Ben-Rosh). The first issue was published in April 1927 and the last in 1958, when all were published 156 numbers. Initially, the periodicity was monthly from 1929 went bimonthly, with the latest figures published semiannually\\nIt was the rescue work of the newspaper Marranos Portuguese, being declared on the first page of the first issue:\\n\\n Our Community has just lit up this small flare, which will, with God\\'s favor, illuminate the path to many who are strayed from the Only Truth. Our motto is Adonai li ve-lo ira (The Lord is with me and I shall fear nothing) and so, if Blessed God agrees with our Works, with our effort we will soon bring redemption to thousands of Portuguese, to the North of the Tejo, who live a spiritual life with vague reminiscences of their ancestors\\' religion.\\nAll issues had eight pages contain lessons of normative Judaism, traditions Crypto-Jewish stories Jewish, history of the Jews in Portugal, news of several Portuguese communities (Porto, Bragança, Lisbon, etc.) and Jewish News from the around the world.\\nIt had subscribers in several countries in their propaganda leaflets indicated that it circulated in Portugal, Spain, France, England, Holland, Sweden, Germany, Austria, Italy, Yugoslavia, Greece, Palestine, Brazil, Colombia and United States of America.\\n\\n\\n== References ==\\n\\n\\n== External links ==\\nHa-Lapid Digital Copies <EOS>\\nPortuguese abstract art is historically linked to the Portuguese artist group Independents\\' exhibitions. The exhibitions\\' main organizer and coordinator, painter and architect Fernando Lanhas, coincidentally is the central figure of Portuguese abstractionism.\\nAfter the I Exhibition in April 1943 in the Fine Arts School of Porto, with sculptures by Altino Maia, Mário Truta, Arlindo Rocha, Serafim Teixeira, Augusto Tavares and Manuel Pereira da Silva, the Independents exhibitions were started when the sculptures were placed outside the school and several times outside Oporto. A first effort towards decentralization, this did not avoid a certain marginalization of the Oporto artists in events and initiatives of greater visibility and impact in the capital.\\nThen the II Independents Exhibition shows were held in February 1944 at the Atheneum Commercial of Oporto, with sculptures by Altino Maia, Arlindo Rocha, Eduardo Tavares, Joaquim Meireles, Manuel da Cunha Monteiro, Maria Graciosa de Carvalho, Mário Truta, M. Félix de Brito, Manuel Pereira da Silva and Serafim Teixeira. It would be from there that the action of Fernando Lanhas was felt in the consistent quality of the catalogue and the exhibitions, as well as in his persistence in keeping alive the initiatives.\\nThe III Independents Exhibition took place in the same year, in the hall of the Coliseum of Oporto, with sculptures by Abel Salazar, Altino Maia, António Azevedo, Arlindo Rocha, Eduardo Tavares, Henrique Moreira, Manuel Pereira da Silva, Mário Truta and Sousa Caldas. In the catalogue of the exhibition that toured Coimbra, Leiria and Lisboa in 1945, it was stated that the name of \"Independents\" is not a name at random but involves the awareness that art is a heritage of humanity and hence that \"Our presence is varied, but should be understood that this enables us to build the future, as it also cannot deny us the right to remember the past.\"\\nFor Fernando Lanhas, the \"Independents Exhibition\" of Oporto was a significant historical moment in Portuguese painting and sculpture. First, because, together, painters and sculptors of different training (the reason for the word \"Independents\" had no affiliation with any \"ism\" in particular) also engaged in a collective action and immersed themselves in the same enthusiasm. Second, because there appeared, without pre-concepts or complexes, original and fruitful abstraction, and, thirdly, because the artists escaped from the centralized voracity of the capital.\\nBetween 1946 and 1950, there were four more independent exhibitions in Bookstore Gallery Portugála, in Oporto in \\'46, \\'48 and \\'50, and in Braga in \\'49.\\nFrom 1943 to 1950, exhibited in almost all expositions were the Independents painters Fernando Lanhas, Júlio Resende, Júlio Pomar, Nadir Afonso, Rui Pimentel, Dordio Gomes, Carlos João Chambers Ramos, Amândio Silva, António Lino, Aníbal Alcino and Vítor Palla.\\n\\n\\n== Exhibitions ==\\nI Independents Exhibition, in the Escola Superior de Belas-Artes do Porto (1943).\\nII Independents Exhibition, in the Ateneu Comercial do Porto (1944).\\nIII Independents Exhibition, in the Coliseu do Porto (1945).\\n\\n\\n== References ==\\n\\nMATOS, Lúcia Almeida. Escultura em Portugal no século XX (1910–69), 2007. Edição: Fundação Calouste Gulbenkian. ISBN 978-972-31-1200-9 <EOS>\\nPorto of My Childhood (Portuguese: Porto da Minha Infância) is a 2001 Portuguese/French film directed by Manoel de Oliveira. Manoel de Oliveira narrates a documentary which features staged dramatic scenes of memories and stories told to him during his childhood in Porto.\\n\\n\\n== Cast ==\\nJorge Trêpa - Manoel 1\\nRicardo Trêpa - Manoel 2\\nMaria de Medeiros - Miss Diabo\\nManoel de Oliveira - Himself / narrator / The Thief\\nJosé Wallenstein - Joel\\nRogério Samora - Chico\\nNelson Freitas - Diogo\\nJorge Loureiro - Casais Monteiro\\nAntónio Costa - Rodrigues de Freitas\\nJosé Maria Vaz da Silva - António Silva\\nDavid Cardoso - Augusto Nobre\\nLeonor Baldaque - Ela\\nLeonor Silveira - Vamp\\nAntónio Fonseca - Rufia\\nNuno Sousa - Reis\\' assistant\\nAgustina Bessa-Luís - Dama texto\\nJoão Bénard da Costa - A man (as Duarte de Almeida)\\nEstela Cunha - Mãe\\n\\n\\n== References ==\\n\\n\\n== External links ==\\nPorto of My Childhood at IMDb <EOS>'"
      ]
     },
     "execution_count": 4,
     "metadata": {},
     "output_type": "execute_result"
    }
   ],
   "source": [
    "# prepare the dataframe to create the tokens\n",
    "df_token = '\\n'.join(df.astype(str).apply(lambda x: ' '.join(x), axis=1))\n",
    "df_token\n"
   ]
  },
  {
   "cell_type": "code",
   "execution_count": 5,
   "metadata": {},
   "outputs": [],
   "source": [
    "# create unique tokens\n",
    "tokens = df_token.split()\n",
    "unique_tokens = set([token.lower() for token in tokens])\n",
    "\n",
    "# create the index to each token\n",
    "tokens_to_id = {token: idx for idx, token in enumerate(unique_tokens)}\n",
    "\n",
    "# Add these special tokens\n",
    "tokens_to_id['<PAD>'] = len(tokens_to_id)\n",
    "tokens_to_id['<EOS>'] = len(tokens_to_id)\n",
    "\n",
    "id_to_token = dict(map(reversed, tokens_to_id.items()))\n"
   ]
  },
  {
   "cell_type": "code",
   "execution_count": 6,
   "metadata": {},
   "outputs": [],
   "source": [
    "# Initialize lists for inputs and outputs\n",
    "inputs = []\n",
    "labels = []\n",
    "\n",
    "for t in range(df.shape[0]):\n",
    "        inputs.append(df.iloc[t][0].split()[:-1])\n",
    "        labels.append(df.iloc[t][0].split()[1:])\n",
    "\n",
    "\n",
    "final_inputs = []\n",
    "final_labels = []\n",
    "\n",
    "# Process each line to split into input and output\n",
    "for inp, out in zip(inputs, labels):        \n",
    "        tokenized_input = [ tokens_to_id[token.lower()] if token != '<EOS>' else tokens_to_id[token] for token in inp]\n",
    "        final_inputs.append(tokenized_input)\n",
    "        tokenized_labels = [tokens_to_id[token.lower()] if token != '<EOS>' else tokens_to_id[token] for token in out]\n",
    "        final_labels.append(tokenized_labels)\n",
    "\n",
    "padded_inputs = pad_sequences(final_inputs, 700, tokens_to_id['<PAD>'])\n",
    "padded_labels = pad_sequences(final_labels, 700, tokens_to_id['<PAD>'])\n",
    "\n",
    "# Convert to tensors\n",
    "inputs = torch.tensor(final_inputs, dtype=torch.int64)\n",
    "labels = torch.tensor(final_labels, dtype=torch.int64)"
   ]
  },
  {
   "cell_type": "markdown",
   "metadata": {},
   "source": [
    "# 3. Batch"
   ]
  },
  {
   "cell_type": "code",
   "execution_count": 7,
   "metadata": {},
   "outputs": [],
   "source": [
    "max_len=3000 #input size\n",
    "vocab_size = len(tokens_to_id) \n",
    "d_model=800 # embeddings dimension\n",
    "max_length = 20 # output size"
   ]
  },
  {
   "cell_type": "markdown",
   "metadata": {},
   "source": [
    "# 4. DataLoader - Prepare Dataset for Training"
   ]
  },
  {
   "cell_type": "code",
   "execution_count": 8,
   "metadata": {},
   "outputs": [],
   "source": [
    "dataset = TensorDataset(inputs, labels)\n",
    "dataloader = DataLoader(dataset)"
   ]
  },
  {
   "cell_type": "markdown",
   "metadata": {},
   "source": [
    "# 5. Embeddings"
   ]
  },
  {
   "cell_type": "markdown",
   "metadata": {},
   "source": [
    "## 5.1. Class"
   ]
  },
  {
   "cell_type": "code",
   "execution_count": 9,
   "metadata": {},
   "outputs": [],
   "source": [
    "class Embeddings(nn.Module):\n",
    "    def __init__(self,vocab_size=vocab_size, d_model=d_model):\n",
    "        super().__init__()\n",
    "        self.embeddings = nn.Embedding(vocab_size, d_model)\n",
    "\n",
    "    def forward(self, x):\n",
    "        embeddings = self.embeddings(x)\n",
    "        return embeddings"
   ]
  },
  {
   "cell_type": "markdown",
   "metadata": {},
   "source": [
    "## 5.2. Test Class"
   ]
  },
  {
   "cell_type": "code",
   "execution_count": 10,
   "metadata": {},
   "outputs": [
    {
     "data": {
      "text/plain": [
       "tensor([[ 0.9134,  0.6272, -0.5782,  ..., -0.2361, -0.8807,  0.8350],\n",
       "        [-0.7854, -1.3265,  0.6188,  ...,  0.0990, -0.3297, -0.6618],\n",
       "        [-1.0204,  1.1756,  2.3574,  ...,  0.2662,  0.7856, -0.2194],\n",
       "        ...,\n",
       "        [-0.4338,  1.3702,  0.5727,  ..., -0.4898,  1.4387,  1.1450],\n",
       "        [-0.4338,  1.3702,  0.5727,  ..., -0.4898,  1.4387,  1.1450],\n",
       "        [-0.4338,  1.3702,  0.5727,  ..., -0.4898,  1.4387,  1.1450]],\n",
       "       grad_fn=<EmbeddingBackward0>)"
      ]
     },
     "execution_count": 10,
     "metadata": {},
     "output_type": "execute_result"
    }
   ],
   "source": [
    "embeddings = Embeddings()\n",
    "emb = embeddings(inputs[0])\n",
    "emb"
   ]
  },
  {
   "cell_type": "markdown",
   "metadata": {},
   "source": [
    "# 6. Positional Encodings"
   ]
  },
  {
   "cell_type": "markdown",
   "metadata": {},
   "source": [
    "## 6.1. Class"
   ]
  },
  {
   "cell_type": "code",
   "execution_count": 11,
   "metadata": {},
   "outputs": [],
   "source": [
    "class PositionEncoding(nn.Module):\n",
    "    \n",
    "    def __init__(self, d_model=d_model, max_len=max_len):        \n",
    "        super().__init__()\n",
    "       \n",
    "        pe = torch.zeros(max_len, d_model)  \n",
    "        position = torch.arange(start=0, end=max_len, step=1).float().unsqueeze(1)\n",
    "\n",
    "        embedding_index = torch.arange(start=0, end=d_model, step=2).float()\n",
    "        \n",
    "        div_term = 1/torch.tensor(10000.0)**(embedding_index / d_model)\n",
    "        \n",
    "        pe[:, 0::2] = torch.sin(position * div_term) ## every other column, starting with the 1st, has sin() values\n",
    "        pe[:, 1::2] = torch.cos(position * div_term) ## every other column, starting with the 2nd, has cos() values\n",
    "      \n",
    "        ## Now we \"register 'pe'.\n",
    "        self.register_buffer('pe', pe) ## \"register_buffer()\" ensures that\n",
    "                                       ## 'pe' will be moved to wherever the model gets\n",
    "                                       ## moved to. So if the model is moved to a GPU, then,\n",
    "                                       ## even though we don't need to optimize 'pe', it will \n",
    "                                       ## also be moved to that GPU. This, in turn, means\n",
    "                                       ## that accessing 'pe' will be relatively fast copared\n",
    "                                       ## to having a GPU have to get the data from a CPU.\n",
    "\n",
    "    def forward(self, word_embeddings):\n",
    "        # print(word_embeddings.size())\n",
    "        # print(self.pe[:word_embeddings.size(0), :].size())#[:word_embeddings.size(0), :])\n",
    "        return word_embeddings.to(device) + self.pe[:word_embeddings.size(0), :].to(device) ## word_embeddings.size(0) = number of embeddings\n",
    "                                                                      ## NOTE: That second ':' is optional and \n",
    "                                                                      ## we could re-write it like this: \n",
    "                                                                      ## self.pe[:word_embeddings.size(0)]"
   ]
  },
  {
   "cell_type": "markdown",
   "metadata": {},
   "source": [
    "## 6.2. Test Class"
   ]
  },
  {
   "cell_type": "code",
   "execution_count": 12,
   "metadata": {},
   "outputs": [
    {
     "data": {
      "text/plain": [
       "tensor([[ 0.9134,  1.6272, -0.5782,  ...,  0.7639, -0.8807,  1.8350],\n",
       "        [ 0.0560, -0.7862,  1.4478,  ...,  1.0990, -0.3296,  0.3382],\n",
       "        [-0.1111,  0.7595,  3.2846,  ...,  1.2662,  0.7858,  0.7806],\n",
       "        ...,\n",
       "        [-0.8539,  2.2777,  1.1301,  ...,  0.5075,  1.5100,  2.1425],\n",
       "        [ 0.1029,  2.2140,  0.1963,  ...,  0.5075,  1.5101,  2.1425],\n",
       "        [ 0.5662,  1.3746, -0.4058,  ...,  0.5075,  1.5102,  2.1425]],\n",
       "       device='cuda:0', grad_fn=<AddBackward0>)"
      ]
     },
     "execution_count": 12,
     "metadata": {},
     "output_type": "execute_result"
    }
   ],
   "source": [
    "PE = PositionEncoding()\n",
    "pe_embeddings = PE(emb)\n",
    "pe_embeddings"
   ]
  },
  {
   "cell_type": "markdown",
   "metadata": {},
   "source": [
    "# 7. Self-Attention"
   ]
  },
  {
   "cell_type": "markdown",
   "metadata": {},
   "source": [
    "## 7.1. Class"
   ]
  },
  {
   "cell_type": "code",
   "execution_count": 13,
   "metadata": {},
   "outputs": [],
   "source": [
    "class Attention(nn.Module): \n",
    "    \n",
    "    def __init__(self, d_model=d_model):     \n",
    "        super().__init__()\n",
    "        \n",
    "        self.d_model=d_model\n",
    "        self.W_q = nn.Linear(in_features=d_model, out_features=d_model, bias=False)\n",
    "        self.W_k = nn.Linear(in_features=d_model, out_features=d_model, bias=False)\n",
    "        self.W_v = nn.Linear(in_features=d_model, out_features=d_model, bias=False)\n",
    "        \n",
    "        self.row_dim = 0\n",
    "        self.col_dim = 1\n",
    "        \n",
    "    def forward(self, pos_embeddings_q, pos_embeddings_k, pos_embeddings_v, mask=None):\n",
    "        \n",
    "        q = self.W_q(pos_embeddings_q)\n",
    "        k = self.W_k(pos_embeddings_k)\n",
    "        v = self.W_v(pos_embeddings_v)\n",
    "        \n",
    "        sims = torch.matmul(q, k.transpose(dim0=self.row_dim, dim1=self.col_dim))\n",
    "\n",
    "        scaled_sims = sims / torch.tensor(k.size(self.col_dim)**0.5).to(device)\n",
    "\n",
    "        if mask is not None:\n",
    "            scaled_sims = scaled_sims.masked_fill(mask=mask.to(device), value=-1e9) \n",
    "        \n",
    "        attention_percents = F.softmax(scaled_sims, dim=self.col_dim)\n",
    "\n",
    "        # Scale the values by their associated percentages and add them up.\n",
    "        attention_scores = torch.matmul(attention_percents, v)\n",
    "        \n",
    "        return attention_scores.to(device)"
   ]
  },
  {
   "cell_type": "markdown",
   "metadata": {},
   "source": [
    "## 7.2. Test Class"
   ]
  },
  {
   "cell_type": "code",
   "execution_count": 14,
   "metadata": {},
   "outputs": [
    {
     "data": {
      "text/plain": [
       "tensor([[ 2.4143e-03,  5.2457e-01, -1.7800e-01,  ...,  2.8923e-01,\n",
       "         -8.3823e-02, -7.3993e-02],\n",
       "        [ 2.0406e-03,  5.3778e-01, -1.9948e-01,  ...,  2.4506e-01,\n",
       "         -1.2755e-01, -5.7603e-02],\n",
       "        [-3.5603e-04,  5.2020e-01, -1.6711e-01,  ...,  2.7922e-01,\n",
       "         -5.8772e-02, -7.3651e-02],\n",
       "        ...,\n",
       "        [-2.1037e-04,  5.2779e-01, -1.3277e-01,  ...,  1.9884e-01,\n",
       "         -1.4971e-01, -6.9328e-02],\n",
       "        [-1.6511e-03,  5.2060e-01, -1.2263e-01,  ...,  1.9627e-01,\n",
       "         -1.4850e-01, -6.8570e-02],\n",
       "        [-1.8317e-03,  5.1860e-01, -1.1625e-01,  ...,  1.9706e-01,\n",
       "         -1.4519e-01, -6.1325e-02]], device='cuda:0', grad_fn=<MmBackward0>)"
      ]
     },
     "execution_count": 14,
     "metadata": {},
     "output_type": "execute_result"
    }
   ],
   "source": [
    "attention = Attention().to(device)\n",
    "attention(pe_embeddings,pe_embeddings,pe_embeddings)"
   ]
  },
  {
   "cell_type": "markdown",
   "metadata": {},
   "source": [
    "# 8. DecoderOnlyTransformer"
   ]
  },
  {
   "cell_type": "markdown",
   "metadata": {},
   "source": [
    "## 8.1 Class"
   ]
  },
  {
   "cell_type": "code",
   "execution_count": 15,
   "metadata": {},
   "outputs": [],
   "source": [
    "torch.manual_seed(0)\n",
    "\n",
    "class DecoderOnlyTransformer(nn.Module):\n",
    "    \n",
    "    def __init__(self, vocab_size=vocab_size, d_model=d_model, max_len=max_len):\n",
    "        \n",
    "        super().__init__()\n",
    "        \n",
    "        self.we = Embeddings(vocab_size, d_model)     \n",
    "        \n",
    "        self.pe = PositionEncoding(d_model=d_model, \n",
    "                                   max_len=max_len)\n",
    "\n",
    "        self.self_attention = Attention(d_model=d_model)\n",
    "\n",
    "        self.fc_layer = nn.Linear(in_features=d_model, out_features=vocab_size)\n",
    "        \n",
    "        self.loss = nn.CrossEntropyLoss()\n",
    "        \n",
    "        \n",
    "    def forward(self, token_ids):\n",
    "                \n",
    "        word_embeddings = self.we(token_ids)     \n",
    "        pe_embeddings = self.pe(word_embeddings)\n",
    "        \n",
    "        mask = torch.tril(torch.ones((token_ids.size(dim=0), token_ids.size(dim=0))))\n",
    "        mask = mask == 0\n",
    "        \n",
    "        self_attention_values = self.self_attention(pe_embeddings, \n",
    "                                                    pe_embeddings, \n",
    "                                                    pe_embeddings, \n",
    "                                                    mask=mask)\n",
    "        \n",
    "        residual_connection_values = pe_embeddings + self_attention_values\n",
    "        \n",
    "        fc_layer_output = self.fc_layer(residual_connection_values)\n",
    "        \n",
    "        return fc_layer_output\n"
   ]
  },
  {
   "cell_type": "markdown",
   "metadata": {},
   "source": [
    "## 8.2. Test Class"
   ]
  },
  {
   "cell_type": "code",
   "execution_count": 16,
   "metadata": {},
   "outputs": [
    {
     "data": {
      "text/plain": [
       "'lisbon, system. dragão. remainder truth. duarte newspaper companies, lisbon, system. dragão. remainder truth. duarte newspaper companies, lisbon, system. dragão. remainder truth.'"
      ]
     },
     "execution_count": 16,
     "metadata": {},
     "output_type": "execute_result"
    }
   ],
   "source": [
    "model = DecoderOnlyTransformer(vocab_size=len(tokens_to_id), d_model=d_model, max_len=max_len).to(device)\n",
    "\n",
    "prompt = \"The Porto Tram Museum (museu do carro eléctrico)\"\n",
    "prompt_listed = list(prompt.split())\n",
    "for p in prompt_listed:\n",
    "    prompt_tokenized = torch.tensor([tokens_to_id[token.lower()] for token in prompt_listed])\n",
    "\n",
    "\n",
    "## Now get get predictions from the model\n",
    "predictions = model(prompt_tokenized.to(device)) \n",
    "predicted_id = torch.tensor([torch.argmax(predictions[-1,:])])\n",
    "\n",
    "predicted_ids = predicted_id\n",
    "\n",
    "\n",
    "for i in range(max_length):\n",
    "    if (predicted_id == tokens_to_id[\"<EOS>\"]): # if the prediction is <EOS>, then we are done\n",
    "        break\n",
    "    \n",
    "    model_input = torch.cat((prompt_tokenized.to(device), predicted_id.to(device)))\n",
    "    \n",
    "    predictions = model(model_input) \n",
    "    predicted_id = torch.tensor([torch.argmax(predictions[-1,:])])\n",
    "    predicted_ids = torch.cat((predicted_ids, predicted_id))\n",
    "        \n",
    "## Now printout the predicted output phrase.\n",
    "answer = []\n",
    "for id in predicted_ids: \n",
    "    answer.append(id_to_token[id.item()])\n",
    "\n",
    "\" \".join(answer)"
   ]
  },
  {
   "cell_type": "markdown",
   "metadata": {},
   "source": [
    "# 9. Treino"
   ]
  },
  {
   "cell_type": "markdown",
   "metadata": {},
   "source": [
    "## 9.1. Batch - Treino"
   ]
  },
  {
   "cell_type": "code",
   "execution_count": 17,
   "metadata": {},
   "outputs": [],
   "source": [
    "model = DecoderOnlyTransformer(vocab_size=len(tokens_to_id), d_model=d_model, max_len=max_len).to(device)\n",
    "loss_fn = nn.CrossEntropyLoss(ignore_index=tokens_to_id['<PAD>'])\n",
    "optimizer = Adam(model.parameters(), lr=0.0001)"
   ]
  },
  {
   "cell_type": "markdown",
   "metadata": {},
   "source": [
    "## 9.2. Loop"
   ]
  },
  {
   "cell_type": "code",
   "execution_count": 18,
   "metadata": {},
   "outputs": [
    {
     "name": "stdout",
     "output_type": "stream",
     "text": [
      "Epoch 1/400, Loss: 7.56303501129150390625\n",
      "Epoch 2/400, Loss: 7.10468482971191406250\n",
      "Epoch 3/400, Loss: 6.59410619735717773438\n",
      "Epoch 4/400, Loss: 6.15061664581298828125\n",
      "Epoch 5/400, Loss: 5.75122642517089843750\n",
      "Epoch 6/400, Loss: 5.38459348678588867188\n",
      "Epoch 7/400, Loss: 5.04149866104125976562\n",
      "Epoch 8/400, Loss: 4.70913076400756835938\n",
      "Epoch 9/400, Loss: 4.39452171325683593750\n",
      "Epoch 10/400, Loss: 4.08136463165283203125\n",
      "Epoch 11/400, Loss: 3.82836794853210449219\n",
      "Epoch 12/400, Loss: 3.53961491584777832031\n",
      "Epoch 13/400, Loss: 3.25832509994506835938\n",
      "Epoch 14/400, Loss: 2.99959588050842285156\n",
      "Epoch 15/400, Loss: 2.77414178848266601562\n",
      "Epoch 16/400, Loss: 2.52465939521789550781\n",
      "Epoch 17/400, Loss: 2.33367156982421875000\n",
      "Epoch 18/400, Loss: 2.14432859420776367188\n",
      "Epoch 19/400, Loss: 1.97512388229370117188\n",
      "Epoch 20/400, Loss: 1.82129895687103271484\n",
      "Epoch 21/400, Loss: 1.69887971878051757812\n",
      "Epoch 22/400, Loss: 1.59271788597106933594\n",
      "Epoch 23/400, Loss: 1.48454499244689941406\n",
      "Epoch 24/400, Loss: 1.37993097305297851562\n",
      "Epoch 25/400, Loss: 1.29755032062530517578\n",
      "Epoch 26/400, Loss: 1.22474658489227294922\n",
      "Epoch 27/400, Loss: 1.13331449031829833984\n",
      "Epoch 28/400, Loss: 1.08202362060546875000\n",
      "Epoch 29/400, Loss: 1.03478658199310302734\n",
      "Epoch 30/400, Loss: 0.97205930948257446289\n",
      "Epoch 31/400, Loss: 0.93156081438064575195\n",
      "Epoch 32/400, Loss: 0.90171152353286743164\n",
      "Epoch 33/400, Loss: 0.85614448785781860352\n",
      "Epoch 34/400, Loss: 0.81760799884796142578\n",
      "Epoch 35/400, Loss: 0.79361283779144287109\n",
      "Epoch 36/400, Loss: 0.76299023628234863281\n",
      "Epoch 37/400, Loss: 0.73002266883850097656\n",
      "Epoch 38/400, Loss: 0.70252358913421630859\n",
      "Epoch 39/400, Loss: 0.67929667234420776367\n",
      "Epoch 40/400, Loss: 0.65780180692672729492\n",
      "Epoch 41/400, Loss: 0.63402223587036132812\n",
      "Epoch 42/400, Loss: 0.62647652626037597656\n",
      "Epoch 43/400, Loss: 0.60213136672973632812\n",
      "Epoch 44/400, Loss: 0.57067412137985229492\n",
      "Epoch 45/400, Loss: 0.55065006017684936523\n",
      "Epoch 46/400, Loss: 0.53668707609176635742\n",
      "Epoch 47/400, Loss: 0.51700681447982788086\n",
      "Epoch 48/400, Loss: 0.50663954019546508789\n",
      "Epoch 49/400, Loss: 0.50344836711883544922\n",
      "Epoch 50/400, Loss: 0.47633895277976989746\n",
      "Epoch 51/400, Loss: 0.45767667889595031738\n",
      "Epoch 52/400, Loss: 0.45476469397544860840\n",
      "Epoch 53/400, Loss: 0.44517919421195983887\n",
      "Epoch 54/400, Loss: 0.42542228102684020996\n",
      "Epoch 55/400, Loss: 0.41110932826995849609\n",
      "Epoch 56/400, Loss: 0.40224489569664001465\n",
      "Epoch 57/400, Loss: 0.39228948950767517090\n",
      "Epoch 58/400, Loss: 0.38357618451118469238\n",
      "Epoch 59/400, Loss: 0.37652298808097839355\n",
      "Epoch 60/400, Loss: 0.36357924342155456543\n",
      "Epoch 61/400, Loss: 0.36118584871292114258\n",
      "Epoch 62/400, Loss: 0.35629326105117797852\n",
      "Epoch 63/400, Loss: 0.34785744547843933105\n",
      "Epoch 64/400, Loss: 0.33939388394355773926\n",
      "Epoch 65/400, Loss: 0.33263391256332397461\n",
      "Epoch 66/400, Loss: 0.32658523321151733398\n",
      "Epoch 67/400, Loss: 0.33305665850639343262\n",
      "Epoch 68/400, Loss: 0.32132893800735473633\n",
      "Epoch 69/400, Loss: 0.30980253219604492188\n",
      "Epoch 70/400, Loss: 0.29601377248764038086\n",
      "Epoch 71/400, Loss: 0.28696933388710021973\n",
      "Epoch 72/400, Loss: 0.29053890705108642578\n",
      "Epoch 73/400, Loss: 0.28290528059005737305\n",
      "Epoch 74/400, Loss: 0.27529418468475341797\n",
      "Epoch 75/400, Loss: 0.26790302991867065430\n",
      "Epoch 76/400, Loss: 0.26676464080810546875\n",
      "Epoch 77/400, Loss: 0.26636037230491638184\n",
      "Epoch 78/400, Loss: 0.26021149754524230957\n",
      "Epoch 79/400, Loss: 0.26242846250534057617\n",
      "Epoch 80/400, Loss: 0.24089913070201873779\n",
      "Epoch 81/400, Loss: 0.23486194014549255371\n",
      "Epoch 82/400, Loss: 0.23327451944351196289\n",
      "Epoch 83/400, Loss: 0.23015864193439483643\n",
      "Epoch 84/400, Loss: 0.22303441166877746582\n",
      "Epoch 85/400, Loss: 0.21942022442817687988\n",
      "Epoch 86/400, Loss: 0.23001857101917266846\n",
      "Epoch 87/400, Loss: 0.21399468183517456055\n",
      "Epoch 88/400, Loss: 0.21045692265033721924\n",
      "Epoch 89/400, Loss: 0.20988760888576507568\n",
      "Epoch 90/400, Loss: 0.21286134421825408936\n",
      "Epoch 91/400, Loss: 0.24581219255924224854\n",
      "Epoch 92/400, Loss: 0.27064859867095947266\n",
      "Epoch 93/400, Loss: 0.19924750924110412598\n",
      "Epoch 94/400, Loss: 0.19064216315746307373\n",
      "Epoch 95/400, Loss: 0.18622878193855285645\n",
      "Epoch 96/400, Loss: 0.19779524207115173340\n",
      "Epoch 97/400, Loss: 0.18981523811817169189\n",
      "Epoch 98/400, Loss: 0.19854715466499328613\n",
      "Epoch 99/400, Loss: 0.18471209704875946045\n",
      "Epoch 100/400, Loss: 0.17957198619842529297\n",
      "Epoch 101/400, Loss: 0.17424815893173217773\n",
      "Epoch 102/400, Loss: 0.17218139767646789551\n",
      "Epoch 103/400, Loss: 0.16997653245925903320\n",
      "Epoch 104/400, Loss: 0.16563595831394195557\n",
      "Epoch 105/400, Loss: 0.16080163419246673584\n",
      "Epoch 106/400, Loss: 0.16062971949577331543\n",
      "Epoch 107/400, Loss: 0.16757681965827941895\n",
      "Epoch 108/400, Loss: 0.16581845283508300781\n",
      "Epoch 109/400, Loss: 0.15847596526145935059\n",
      "Epoch 110/400, Loss: 0.15311034023761749268\n",
      "Epoch 111/400, Loss: 0.15126062929630279541\n",
      "Epoch 112/400, Loss: 0.14821456372737884521\n",
      "Epoch 113/400, Loss: 0.14486402273178100586\n",
      "Epoch 114/400, Loss: 0.13980533182621002197\n",
      "Epoch 115/400, Loss: 0.13618469238281250000\n",
      "Epoch 116/400, Loss: 0.13220623135566711426\n",
      "Epoch 117/400, Loss: 0.13036817312240600586\n",
      "Epoch 118/400, Loss: 0.12777064740657806396\n",
      "Epoch 119/400, Loss: 0.12571799755096435547\n",
      "Epoch 120/400, Loss: 0.12403807789087295532\n",
      "Epoch 121/400, Loss: 0.12205460667610168457\n",
      "Epoch 122/400, Loss: 0.12062995135784149170\n",
      "Epoch 123/400, Loss: 0.11959353834390640259\n",
      "Epoch 124/400, Loss: 0.11838413774967193604\n",
      "Epoch 125/400, Loss: 0.11902616173028945923\n",
      "Epoch 126/400, Loss: 0.11754892766475677490\n",
      "Epoch 127/400, Loss: 0.12201157212257385254\n",
      "Epoch 128/400, Loss: 0.13145942986011505127\n",
      "Epoch 129/400, Loss: 0.18342466652393341064\n",
      "Epoch 130/400, Loss: 0.14182619750499725342\n",
      "Epoch 131/400, Loss: 0.12398303300142288208\n",
      "Epoch 132/400, Loss: 0.12331367284059524536\n",
      "Epoch 133/400, Loss: 0.12043870240449905396\n",
      "Epoch 134/400, Loss: 0.11823561787605285645\n",
      "Epoch 135/400, Loss: 0.11560004949569702148\n",
      "Epoch 136/400, Loss: 0.11317481845617294312\n",
      "Epoch 137/400, Loss: 0.11011917889118194580\n",
      "Epoch 138/400, Loss: 0.10734051465988159180\n",
      "Epoch 139/400, Loss: 0.10559260845184326172\n",
      "Epoch 140/400, Loss: 0.10318918526172637939\n",
      "Epoch 141/400, Loss: 0.10001957416534423828\n",
      "Epoch 142/400, Loss: 0.09849432110786437988\n",
      "Epoch 143/400, Loss: 0.09758943319320678711\n",
      "Epoch 144/400, Loss: 0.09574983268976211548\n",
      "Epoch 145/400, Loss: 0.09465442597866058350\n",
      "Epoch 146/400, Loss: 0.09330829977989196777\n",
      "Epoch 147/400, Loss: 0.09263069927692413330\n",
      "Epoch 148/400, Loss: 0.09118481725454330444\n",
      "Epoch 149/400, Loss: 0.09038151055574417114\n",
      "Epoch 150/400, Loss: 0.08879124373197555542\n",
      "Epoch 151/400, Loss: 0.08771520853042602539\n",
      "Epoch 152/400, Loss: 0.08708113431930541992\n",
      "Epoch 153/400, Loss: 0.08663613349199295044\n",
      "Epoch 154/400, Loss: 0.08593190461397171021\n",
      "Epoch 155/400, Loss: 0.08632610738277435303\n",
      "Epoch 156/400, Loss: 0.08499553054571151733\n",
      "Epoch 157/400, Loss: 0.08418987691402435303\n",
      "Epoch 158/400, Loss: 0.08412662148475646973\n",
      "Epoch 159/400, Loss: 0.08410387486219406128\n",
      "Epoch 160/400, Loss: 0.08270942419767379761\n",
      "Epoch 161/400, Loss: 0.07974957674741744995\n",
      "Epoch 162/400, Loss: 0.08012552559375762939\n",
      "Epoch 163/400, Loss: 0.08156184852123260498\n",
      "Epoch 164/400, Loss: 0.08212026953697204590\n",
      "Epoch 165/400, Loss: 0.08138278871774673462\n",
      "Epoch 166/400, Loss: 0.09031664580106735229\n",
      "Epoch 167/400, Loss: 0.09007824957370758057\n",
      "Epoch 168/400, Loss: 0.17486895620822906494\n",
      "Epoch 169/400, Loss: 0.12790736556053161621\n",
      "Epoch 170/400, Loss: 0.11198663711547851562\n",
      "Epoch 171/400, Loss: 0.09000860154628753662\n",
      "Epoch 172/400, Loss: 0.08689557760953903198\n",
      "Epoch 173/400, Loss: 0.08524544537067413330\n",
      "Epoch 174/400, Loss: 0.08365026116371154785\n",
      "Epoch 175/400, Loss: 0.08128847181797027588\n",
      "Epoch 176/400, Loss: 0.07958645373582839966\n",
      "Epoch 177/400, Loss: 0.07914357632398605347\n",
      "Epoch 178/400, Loss: 0.07815077900886535645\n",
      "Epoch 179/400, Loss: 0.07752005755901336670\n",
      "Epoch 180/400, Loss: 0.07662309706211090088\n",
      "Epoch 181/400, Loss: 0.07587532699108123779\n",
      "Epoch 182/400, Loss: 0.07514687627553939819\n",
      "Epoch 183/400, Loss: 0.07449413090944290161\n",
      "Epoch 184/400, Loss: 0.07385835051536560059\n",
      "Epoch 185/400, Loss: 0.07445365190505981445\n",
      "Epoch 186/400, Loss: 0.07657948136329650879\n",
      "Epoch 187/400, Loss: 0.07389099895954132080\n",
      "Epoch 188/400, Loss: 0.07357259839773178101\n",
      "Epoch 189/400, Loss: 0.07320262491703033447\n",
      "Epoch 190/400, Loss: 0.07326792925596237183\n",
      "Epoch 191/400, Loss: 0.07483293861150741577\n",
      "Epoch 192/400, Loss: 0.07545221596956253052\n",
      "Epoch 193/400, Loss: 0.07188315689563751221\n",
      "Epoch 194/400, Loss: 0.07150961458683013916\n",
      "Epoch 195/400, Loss: 0.07055784016847610474\n",
      "Epoch 196/400, Loss: 0.07045276463031768799\n",
      "Epoch 197/400, Loss: 0.06924539059400558472\n",
      "Epoch 198/400, Loss: 0.06699451804161071777\n",
      "Epoch 199/400, Loss: 0.06623620539903640747\n",
      "Epoch 200/400, Loss: 0.06601792573928833008\n",
      "Epoch 201/400, Loss: 0.06613881140947341919\n",
      "Epoch 202/400, Loss: 0.06671660393476486206\n",
      "Epoch 203/400, Loss: 0.06483326852321624756\n",
      "Epoch 204/400, Loss: 0.06471294164657592773\n",
      "Epoch 205/400, Loss: 0.06280507892370223999\n",
      "Epoch 206/400, Loss: 0.06236544251441955566\n",
      "Epoch 207/400, Loss: 0.06156947463750839233\n",
      "Epoch 208/400, Loss: 0.06207711622118949890\n",
      "Epoch 209/400, Loss: 0.05986447632312774658\n",
      "Epoch 210/400, Loss: 0.05860350653529167175\n",
      "Epoch 211/400, Loss: 0.05754411220550537109\n",
      "Epoch 212/400, Loss: 0.05644993856549263000\n",
      "Epoch 213/400, Loss: 0.05565242469310760498\n",
      "Epoch 214/400, Loss: 0.05527539923787117004\n",
      "Epoch 215/400, Loss: 0.05421185865998268127\n",
      "Epoch 216/400, Loss: 0.05375991389155387878\n",
      "Epoch 217/400, Loss: 0.05209157988429069519\n",
      "Epoch 218/400, Loss: 0.05197629332542419434\n",
      "Epoch 219/400, Loss: 0.05011234059929847717\n",
      "Epoch 220/400, Loss: 0.05033713951706886292\n",
      "Epoch 221/400, Loss: 0.04795979708433151245\n",
      "Epoch 222/400, Loss: 0.04799604415893554688\n",
      "Epoch 223/400, Loss: 0.04835034534335136414\n",
      "Epoch 224/400, Loss: 0.04851055890321731567\n",
      "Epoch 225/400, Loss: 0.05095237866044044495\n",
      "Epoch 226/400, Loss: 0.05008307844400405884\n",
      "Epoch 227/400, Loss: 0.04682511836290359497\n",
      "Epoch 228/400, Loss: 0.04657113924622535706\n",
      "Epoch 229/400, Loss: 0.04400004819035530090\n",
      "Epoch 230/400, Loss: 0.04490756988525390625\n",
      "Epoch 231/400, Loss: 0.04192474856972694397\n",
      "Epoch 232/400, Loss: 0.04638498649001121521\n",
      "Epoch 233/400, Loss: 0.05997040495276451111\n",
      "Epoch 234/400, Loss: 0.04937883839011192322\n",
      "Epoch 235/400, Loss: 0.04466553032398223877\n",
      "Epoch 236/400, Loss: 0.04349357634782791138\n",
      "Epoch 237/400, Loss: 0.04524019360542297363\n",
      "Epoch 238/400, Loss: 0.04698772355914115906\n",
      "Epoch 239/400, Loss: 0.04450153931975364685\n",
      "Epoch 240/400, Loss: 0.04122280701994895935\n",
      "Epoch 241/400, Loss: 0.03746746852993965149\n",
      "Epoch 242/400, Loss: 0.03929175063967704773\n",
      "Epoch 243/400, Loss: 0.05043349415063858032\n",
      "Epoch 244/400, Loss: 0.04355836287140846252\n",
      "Epoch 245/400, Loss: 0.04177821427583694458\n",
      "Epoch 246/400, Loss: 0.03677175939083099365\n",
      "Epoch 247/400, Loss: 0.03526612371206283569\n",
      "Epoch 248/400, Loss: 0.03478506579995155334\n",
      "Epoch 249/400, Loss: 0.03609672933816909790\n",
      "Epoch 250/400, Loss: 0.04062205925583839417\n",
      "Epoch 251/400, Loss: 0.04165254905819892883\n",
      "Epoch 252/400, Loss: 0.04727714508771896362\n",
      "Epoch 253/400, Loss: 0.05380741134285926819\n",
      "Epoch 254/400, Loss: 0.04401488974690437317\n",
      "Epoch 255/400, Loss: 0.04628635942935943604\n",
      "Epoch 256/400, Loss: 0.04635303467512130737\n",
      "Epoch 257/400, Loss: 0.04500705376267433167\n",
      "Epoch 258/400, Loss: 0.04784453660249710083\n",
      "Epoch 259/400, Loss: 0.04903695359826087952\n",
      "Epoch 260/400, Loss: 0.04997456446290016174\n",
      "Epoch 261/400, Loss: 0.04833834618330001831\n",
      "Epoch 262/400, Loss: 0.04503253847360610962\n",
      "Epoch 263/400, Loss: 0.04240536689758300781\n",
      "Epoch 264/400, Loss: 0.04221179708838462830\n",
      "Epoch 265/400, Loss: 0.04304153844714164734\n",
      "Epoch 266/400, Loss: 0.04151466861367225647\n",
      "Epoch 267/400, Loss: 0.04088527709245681763\n",
      "Epoch 268/400, Loss: 0.04049461334943771362\n",
      "Epoch 269/400, Loss: 0.03933542221784591675\n",
      "Epoch 270/400, Loss: 0.03855273872613906860\n",
      "Epoch 271/400, Loss: 0.03674953058362007141\n",
      "Epoch 272/400, Loss: 0.03583241999149322510\n",
      "Epoch 273/400, Loss: 0.03524639829993247986\n",
      "Epoch 274/400, Loss: 0.03759437426924705505\n",
      "Epoch 275/400, Loss: 0.04778032004833221436\n",
      "Epoch 276/400, Loss: 0.06091597303748130798\n",
      "Epoch 277/400, Loss: 0.04642233997583389282\n",
      "Epoch 278/400, Loss: 0.04438452050089836121\n",
      "Epoch 279/400, Loss: 0.04070345684885978699\n",
      "Epoch 280/400, Loss: 0.04163051024079322815\n",
      "Epoch 281/400, Loss: 0.04135039076209068298\n",
      "Epoch 282/400, Loss: 0.04178204014897346497\n",
      "Epoch 283/400, Loss: 0.03751533478498458862\n",
      "Epoch 284/400, Loss: 0.04119597747921943665\n",
      "Epoch 285/400, Loss: 0.04327569156885147095\n",
      "Epoch 286/400, Loss: 0.04181473702192306519\n",
      "Epoch 287/400, Loss: 0.04113068059086799622\n",
      "Epoch 288/400, Loss: 0.14261668920516967773\n",
      "Epoch 289/400, Loss: 0.23943977057933807373\n",
      "Epoch 290/400, Loss: 0.40393194556236267090\n",
      "Epoch 291/400, Loss: 0.16711805760860443115\n",
      "Epoch 292/400, Loss: 0.11488039791584014893\n",
      "Epoch 293/400, Loss: 0.06975417584180831909\n",
      "Epoch 294/400, Loss: 0.06622134149074554443\n",
      "Epoch 295/400, Loss: 0.05616619810461997986\n",
      "Epoch 296/400, Loss: 0.06139571219682693481\n",
      "Epoch 297/400, Loss: 0.05214333534240722656\n",
      "Epoch 298/400, Loss: 0.04994834586977958679\n",
      "Epoch 299/400, Loss: 0.04520297050476074219\n",
      "Epoch 300/400, Loss: 0.04524980857968330383\n",
      "Epoch 301/400, Loss: 0.04209594056010246277\n",
      "Epoch 302/400, Loss: 0.04127740859985351562\n",
      "Epoch 303/400, Loss: 0.03975419327616691589\n",
      "Epoch 304/400, Loss: 0.03914064541459083557\n",
      "Epoch 305/400, Loss: 0.03805514797568321228\n",
      "Epoch 306/400, Loss: 0.03813434392213821411\n",
      "Epoch 307/400, Loss: 0.03699474036693572998\n",
      "Epoch 308/400, Loss: 0.03765306994318962097\n",
      "Epoch 309/400, Loss: 0.03671896830201148987\n",
      "Epoch 310/400, Loss: 0.03684240207076072693\n",
      "Epoch 311/400, Loss: 0.03574638813734054565\n",
      "Epoch 312/400, Loss: 0.03604583814740180969\n",
      "Epoch 313/400, Loss: 0.03500204160809516907\n",
      "Epoch 314/400, Loss: 0.03532033786177635193\n",
      "Epoch 315/400, Loss: 0.03434445708990097046\n",
      "Epoch 316/400, Loss: 0.03465623781085014343\n",
      "Epoch 317/400, Loss: 0.03372244909405708313\n",
      "Epoch 318/400, Loss: 0.03400556370615959167\n",
      "Epoch 319/400, Loss: 0.03314314410090446472\n",
      "Epoch 320/400, Loss: 0.03339645266532897949\n",
      "Epoch 321/400, Loss: 0.03261119872331619263\n",
      "Epoch 322/400, Loss: 0.03284040838479995728\n",
      "Epoch 323/400, Loss: 0.03212363272905349731\n",
      "Epoch 324/400, Loss: 0.03233365714550018311\n",
      "Epoch 325/400, Loss: 0.03167651966214179993\n",
      "Epoch 326/400, Loss: 0.03187210112810134888\n",
      "Epoch 327/400, Loss: 0.03126376494765281677\n",
      "Epoch 328/400, Loss: 0.03144894540309906006\n",
      "Epoch 329/400, Loss: 0.03088011033833026886\n",
      "Epoch 330/400, Loss: 0.03105794079601764679\n",
      "Epoch 331/400, Loss: 0.03052117489278316498\n",
      "Epoch 332/400, Loss: 0.03069373220205307007\n",
      "Epoch 333/400, Loss: 0.03018284216523170471\n",
      "Epoch 334/400, Loss: 0.03035153634846210480\n",
      "Epoch 335/400, Loss: 0.02986185625195503235\n",
      "Epoch 336/400, Loss: 0.03002796880900859833\n",
      "Epoch 337/400, Loss: 0.02955553308129310608\n",
      "Epoch 338/400, Loss: 0.02971998974680900574\n",
      "Epoch 339/400, Loss: 0.02926179207861423492\n",
      "Epoch 340/400, Loss: 0.02942545711994171143\n",
      "Epoch 341/400, Loss: 0.02897892706096172333\n",
      "Epoch 342/400, Loss: 0.02914249524474143982\n",
      "Epoch 343/400, Loss: 0.02870577573776245117\n",
      "Epoch 344/400, Loss: 0.02886981144547462463\n",
      "Epoch 345/400, Loss: 0.02844107709825038910\n",
      "Epoch 346/400, Loss: 0.02860596776008605957\n",
      "Epoch 347/400, Loss: 0.02818396687507629395\n",
      "Epoch 348/400, Loss: 0.02835018001496791840\n",
      "Epoch 349/400, Loss: 0.02793373726308345795\n",
      "Epoch 350/400, Loss: 0.02810158766806125641\n",
      "Epoch 351/400, Loss: 0.02768986113369464874\n",
      "Epoch 352/400, Loss: 0.02785968780517578125\n",
      "Epoch 353/400, Loss: 0.02745185792446136475\n",
      "Epoch 354/400, Loss: 0.02762398496270179749\n",
      "Epoch 355/400, Loss: 0.02721906453371047974\n",
      "Epoch 356/400, Loss: 0.02739487402141094208\n",
      "Epoch 357/400, Loss: 0.02699190750718116760\n",
      "Epoch 358/400, Loss: 0.02717003785073757172\n",
      "Epoch 359/400, Loss: 0.02677728608250617981\n",
      "Epoch 360/400, Loss: 0.02694750204682350159\n",
      "Epoch 361/400, Loss: 0.02657039836049079895\n",
      "Epoch 362/400, Loss: 0.02673291228711605072\n",
      "Epoch 363/400, Loss: 0.02636131271719932556\n",
      "Epoch 364/400, Loss: 0.02652575634419918060\n",
      "Epoch 365/400, Loss: 0.02615514025092124939\n",
      "Epoch 366/400, Loss: 0.02632034756243228912\n",
      "Epoch 367/400, Loss: 0.02595289237797260284\n",
      "Epoch 368/400, Loss: 0.02611629292368888855\n",
      "Epoch 369/400, Loss: 0.02575163915753364563\n",
      "Epoch 370/400, Loss: 0.02591580711305141449\n",
      "Epoch 371/400, Loss: 0.02555430680513381958\n",
      "Epoch 372/400, Loss: 0.02571895346045494080\n",
      "Epoch 373/400, Loss: 0.02536087110638618469\n",
      "Epoch 374/400, Loss: 0.02552516013383865356\n",
      "Epoch 375/400, Loss: 0.02517092786729335785\n",
      "Epoch 376/400, Loss: 0.02533430419862270355\n",
      "Epoch 377/400, Loss: 0.02498446032404899597\n",
      "Epoch 378/400, Loss: 0.02514603361487388611\n",
      "Epoch 379/400, Loss: 0.02480117604136466980\n",
      "Epoch 380/400, Loss: 0.02496035769581794739\n",
      "Epoch 381/400, Loss: 0.02462126128375530243\n",
      "Epoch 382/400, Loss: 0.02477681636810302734\n",
      "Epoch 383/400, Loss: 0.02444431744515895844\n",
      "Epoch 384/400, Loss: 0.02459550276398658752\n",
      "Epoch 385/400, Loss: 0.02426961250603199005\n",
      "Epoch 386/400, Loss: 0.02441969513893127441\n",
      "Epoch 387/400, Loss: 0.02409110032021999359\n",
      "Epoch 388/400, Loss: 0.02422769553959369659\n",
      "Epoch 389/400, Loss: 0.02392483875155448914\n",
      "Epoch 390/400, Loss: 0.02405149675905704498\n",
      "Epoch 391/400, Loss: 0.02447771839797496796\n",
      "Epoch 392/400, Loss: 0.02467723563313484192\n",
      "Epoch 393/400, Loss: 0.02362634800374507904\n",
      "Epoch 394/400, Loss: 0.02394810877740383148\n",
      "Epoch 395/400, Loss: 0.02377456985414028168\n",
      "Epoch 396/400, Loss: 0.02389691211283206940\n",
      "Epoch 397/400, Loss: 0.02340309321880340576\n",
      "Epoch 398/400, Loss: 0.02358085475862026215\n",
      "Epoch 399/400, Loss: 0.02325097285211086273\n",
      "Epoch 400/400, Loss: 0.02338109537959098816\n"
     ]
    },
    {
     "data": {
      "image/png": "[encoded data removed]",
      "text/plain": [
       "<Figure size 1000x500 with 1 Axes>"
      ]
     },
     "metadata": {},
     "output_type": "display_data"
    }
   ],
   "source": [
    "losses=[]\n",
    "## Train the model\n",
    "num_epochs = 400\n",
    "\n",
    "for epoch in range(num_epochs):\n",
    "    epoch_loss = 0.0\n",
    "    for batch in dataloader:\n",
    "        inputs, labels = batch\n",
    "        ## Forward pass\n",
    "        outputs = model(inputs.squeeze(0).to(device))\n",
    "        \n",
    "        ## Compute the loss\n",
    "        loss = loss_fn(outputs.to(device), labels.view(-1).to(device))\n",
    "        \n",
    "        ## Backward pass\n",
    "        loss.backward()\n",
    "        optimizer.step()\n",
    "        optimizer.zero_grad()\n",
    "\n",
    "        losses.append(loss.to(\"cpu\").detach().numpy())\n",
    "\n",
    "    if (epoch+1) % 1 == 0:\n",
    "        print(f'Epoch {epoch+1}/{num_epochs}, Loss: {loss/len(inputs):.20f}')\n",
    "    elif loss<0.00000000001:\n",
    "        break\n",
    "\n",
    "\n",
    "plt.figure(figsize=(10, 5))\n",
    "plt.plot(losses, label='Training Loss')\n",
    "plt.xlabel('Epoch')\n",
    "plt.ylabel('Loss')\n",
    "plt.title('Training Loss vs Epoch')\n",
    "plt.legend()\n",
    "plt.grid(True)\n",
    "plt.show()\n"
   ]
  },
  {
   "cell_type": "code",
   "execution_count": 24,
   "metadata": {},
   "outputs": [
    {
     "name": "stdout",
     "output_type": "stream",
     "text": [
      "Training Set: The Porto Tram Museum (Museu do Carro Eléctrico) is a museum operated by the Sociedade de Transportes Colectivos do Porto. It was inaugurated in 1992 and is installed \n",
      "in a former thermoelectric power station next to the River Douro in Massarelos, Porto, Portugal. It exhibits material related to the history of trams in Porto.\n",
      "--------------------\n",
      "Prompt: The Porto Tram Museum (museu do carro eléctrico)\n",
      "--------------------\n",
      "Cahtbot Answer: is a museum operated by the sociedade de transportes colectivos do porto. it was inaugurated in 1992 and is installed in a former thermoelectric power station next to the river douro in massarelos, porto, portugal. it exhibits material related to the history of trams in porto. the collection contains 16 electric cars, 5 trailers, and two maintenance vehicles as well as the former equipment of the power plant, which provided electricity for the tram lines. == the building == the construction of the building as a power plant was completed in 1915. it consists of two large halls that were, respectively, the hall for the steam generators (boilers) and the engine room. until the 1940s the power station produced enough energy to power the tram network. however, with the increase in the number of electric cars in circulation, the trams became partially dependent on the city's power supply and in the 1960s energy production at the plant ceased, although it continues to operate as a substation for the three remaining tram lines. the museum was opened on the site in may 1992. one hall of the building houses the trams and the other the electrical equipment. an additional shed houses the trams that are still used on a daily basis. the museum closed in december 2012, re-opening in november 2015 after repairs costing around one million euros. == the collection == the museum's collection consists of the following cars. a parade of many of the cars in the collection is held in porto annually. trailer car 1. this car was probably built by the company \"a constructora\". it was acquired by the companhia carris de ferro do porto in the first decade of the 20th century. trailer car 8. this is a horse-drawn tram purchased from starbuck car and wagon company of birkenhead, england. this type of vehicle was first used in porto on may 15, 1872. it has also been used as a trailer for steam and electric engines. trailer car 18. this was built in the workshops of companhia carris de ferro do porto in 1934, and was used until the 1960s. its windows were removed in the summer months, allowing smoking in the inside, which gave it the name of \"smoker\". trailer car 25. this vehicle was designed and built as a trailer in the workshops of the sociedade de transportes colectivos do porto in the late 1940s. later it also circulated as an electric car. electric car 22. built by the starbuck car and wagon company, this vehicle was initially a trailer car. with the development of electric traction in 1895, it was motorized and started to circulate as an electric car. it was restored in 1992 according to its original design. electric car 100. this is a 1995 replica of a vehicle built in the first decade of the 20th century, which was destroyed in a large fire at boavista station in porto in february 1928. this, and car no. 104, can be hired for social events. electric car 104. this vehicle is a replica with the same numbering and characteristics of an electric car that circulated initially as a trailer but, after 1895, was motorized. it was used until 1980. the construction of the replica was done in 1994. electric car 163. this car features characteristics similar to those of the cars that were produced by the american j. g. brill company. however, its origin and date of manufacture are unknown. electric car 247. this car was known by the name of \"english car\" because it was manufactured by the british united electric car company of preston. it was acquired by companhia carris de ferro do porto in 1909 and underwent several changes that removed some of its original characteristics. electric car 250. this car belonged to a series of 12 vehicles built in the workshops of companhia carris de ferro do porto in 1927. circulating until 1981 these vehicles were called \"italian cars\" because they were equipped with engines of the compagnia generale di elettricità in italy. electric car 267. this vehicle was built in the <EOS>\n"
     ]
    }
   ],
   "source": [
    "prompt = \"The Porto Tram Museum (museu do carro eléctrico)\"\n",
    "prompt_listed = list(prompt.split())\n",
    "for p in prompt_listed:\n",
    "    prompt_tokenized = torch.tensor([tokens_to_id[token.lower()] for token in prompt_listed])\n",
    "\n",
    "\n",
    "## Now get get predictions from the model\n",
    "predictions = model(prompt_tokenized.to(device)) \n",
    "predicted_id = torch.tensor([torch.argmax(predictions[-1,:])])\n",
    "predicted_ids = predicted_id\n",
    "max_length=800\n",
    "for i in range(max_length):\n",
    "\n",
    "    if (predicted_id == tokens_to_id[\"<EOS>\"]): # if the prediction is <EOS>, then we are done\n",
    "        break\n",
    "    \n",
    "    prompt_tokenized = torch.cat((prompt_tokenized, predicted_id))\n",
    "    \n",
    "    predictions = model(prompt_tokenized.to(device)) \n",
    "    predicted_id = torch.tensor([torch.argmax(predictions[-1,:])])\n",
    "    predicted_ids = torch.cat((predicted_ids, predicted_id))\n",
    "        \n",
    "## Now printout the predicted output phrase.\n",
    "answer = []\n",
    "for id in predicted_ids: \n",
    "    answer.append(id_to_token[id.item()])\n",
    "\n",
    "print(\"Training Set: \"+ \"The Porto Tram Museum (Museu do Carro Eléctrico) is a museum operated by the Sociedade de Transportes Colectivos do Porto. It was inaugurated in 1992 and is installed \\nin a former thermoelectric power station next to the River Douro in Massarelos, Porto, Portugal. It exhibits material related to the history of trams in Porto.\")\n",
    "print(\"--------------------\")\n",
    "print(\"Prompt: \"+prompt)\n",
    "print(\"--------------------\")\n",
    "print(\"Cahtbot Answer: \"+\" \".join(answer))"
   ]
  },
  {
   "cell_type": "markdown",
   "metadata": {},
   "source": [
    "# 10. Save the Model"
   ]
  },
  {
   "cell_type": "code",
   "execution_count": 20,
   "metadata": {},
   "outputs": [],
   "source": [
    "model_path = current_directory+\"\\\\3_SavedModel\\\\simple_model_checkpoint.pth\""
   ]
  },
  {
   "cell_type": "code",
   "execution_count": 21,
   "metadata": {},
   "outputs": [],
   "source": [
    "checkpoint = {\n",
    "    'epoch': epoch,\n",
    "    'model_state_dict': model.state_dict(),\n",
    "    'optimizer_state_dict': optimizer.state_dict(),\n",
    "    'loss': loss,\n",
    "}\n",
    "torch.save(checkpoint, model_path)"
   ]
  },
  {
   "cell_type": "markdown",
   "metadata": {},
   "source": [
    "# 11. Load the Model"
   ]
  },
  {
   "cell_type": "code",
   "execution_count": 22,
   "metadata": {},
   "outputs": [
    {
     "name": "stdout",
     "output_type": "stream",
     "text": [
      "DecoderOnlyTransformer(\n",
      "  (we): Embeddings(\n",
      "    (embeddings): Embedding(1561, 800)\n",
      "  )\n",
      "  (pe): PositionEncoding()\n",
      "  (self_attention): Attention(\n",
      "    (W_q): Linear(in_features=800, out_features=800, bias=False)\n",
      "    (W_k): Linear(in_features=800, out_features=800, bias=False)\n",
      "    (W_v): Linear(in_features=800, out_features=800, bias=False)\n",
      "  )\n",
      "  (fc_layer): Linear(in_features=800, out_features=1561, bias=True)\n",
      "  (loss): CrossEntropyLoss()\n",
      ")\n",
      "Adam (\n",
      "Parameter Group 0\n",
      "    amsgrad: False\n",
      "    betas: (0.9, 0.999)\n",
      "    capturable: False\n",
      "    differentiable: False\n",
      "    eps: 1e-08\n",
      "    foreach: None\n",
      "    fused: None\n",
      "    lr: 0.0001\n",
      "    maximize: False\n",
      "    weight_decay: 0\n",
      ")\n",
      "Start epoch: 399\n",
      "Loss: 0.023381095379590988\n"
     ]
    }
   ],
   "source": [
    "loaded_model = DecoderOnlyTransformer().to(device)\n",
    "loaded_model.eval()  \n",
    "\n",
    "\n",
    "checkpoint = torch.load(model_path)\n",
    "loaded_model.load_state_dict(checkpoint['model_state_dict'])\n",
    "optimizer.load_state_dict(checkpoint['optimizer_state_dict'])\n",
    "start_epoch = checkpoint['epoch']\n",
    "loss = checkpoint['loss']\n",
    "\n",
    "# Confirme que os estados foram carregados corretamente\n",
    "print(loaded_model)\n",
    "print(optimizer)\n",
    "print(f\"Start epoch: {start_epoch}\")\n",
    "print(f\"Loss: {loss}\")"
   ]
  },
  {
   "cell_type": "markdown",
   "metadata": {},
   "source": [
    "## 11.1. Test Loaded Model"
   ]
  },
  {
   "cell_type": "code",
   "execution_count": 23,
   "metadata": {},
   "outputs": [
    {
     "name": "stdout",
     "output_type": "stream",
     "text": [
      "Training Set: The Porto Tram Museum (Museu do Carro Eléctrico) is a museum operated by the Sociedade de Transportes Colectivos do Porto. It was inaugurated in 1992 and is installed \n",
      "in a former thermoelectric power station next to the River Douro in Massarelos, Porto, Portugal. It exhibits material related to the history of trams in Porto.\n",
      "--------------------\n",
      "Prompt: The Porto Tram Museum (museu do carro eléctrico) is a museum operated\n",
      "--------------------\n",
      "Cahtbot Answer: by the sociedade de transportes colectivos do porto. it was inaugurated in 1992 and is installed in a former thermoelectric power station next to the river douro in massarelos, porto, portugal. it exhibits material related to the history of trams in porto. the collection contains 16 electric cars, 5 trailers, and two maintenance vehicles as well as the former equipment of the power plant, which provided electricity for the tram lines. == the building == the construction of the building as a power plant was completed in 1915. it consists of two large halls that were, respectively, the hall for the steam generators (boilers) and the engine room. until the 1940s the power station produced enough energy to power the tram network. however, with the increase in the number of electric cars in circulation, the trams became partially dependent on the city's power supply and in the 1960s energy production at the plant ceased, although it continues to operate as a substation for the three remaining tram lines. the museum was opened on the site in may 1992. one hall of the building houses the trams and the other the electrical equipment. an additional shed houses the trams that are still used on a daily basis. the museum closed in december 2012, re-opening in november 2015 after repairs costing around one million euros. == the collection == the museum's collection consists of the following cars. a parade of many of the cars in the collection is held in porto annually. trailer car 1. this car was probably built by the company \"a constructora\". it was acquired by the companhia carris de ferro do porto in the first decade of the 20th century. trailer car 8. this is a horse-drawn tram purchased from starbuck car and wagon company of birkenhead, england. this type of vehicle was first used in porto on may 15, 1872. it has also been used as a trailer for steam and electric engines. trailer car 18. this was built in the workshops of companhia carris de ferro do porto in 1934, and was used until the 1960s. its windows were removed in the summer months, allowing smoking in the inside, which gave it the name of \"smoker\". trailer car 25. this vehicle was designed and built as a trailer in the workshops of the sociedade de transportes colectivos do porto in the late 1940s. later it also circulated as an electric car. electric car 22. built by the starbuck car and wagon company, this vehicle was initially a trailer car. with the development of electric traction in 1895, it was motorized and started to circulate as an electric car. it was restored in 1992 according to its original design. electric car 100. this is a 1995 replica of a vehicle built in the first decade of the 20th century, which was destroyed in a large fire at boavista station in porto in february 1928. this, and car no. 104, can be hired for social events. electric car 104. this vehicle is a replica with the same numbering and characteristics of an electric car that circulated initially as a trailer but, after 1895, was motorized. it was used until 1980. the construction of the replica was done in 1994. electric car 163. this car features characteristics similar to those of the cars that were produced by the american j. g. brill company. however, its origin and date of manufacture are unknown. electric car 247. this car was known by the name of \"english car\" because it was manufactured by the british united electric car company of preston. it was acquired by companhia carris de ferro do porto in 1909 and underwent several changes that removed some of its original characteristics. electric car 250. this car belonged to a series of 12 vehicles built in the workshops of companhia carris de ferro do porto in 1927. circulating until 1981 these vehicles were called \"italian cars\" because they were equipped with engines of the compagnia generale di elettricità in italy. electric car 267. this vehicle was built in the <EOS>\n"
     ]
    }
   ],
   "source": [
    "prompt = \"The Porto Tram Museum (museu do carro eléctrico) is a museum operated\"\n",
    "prompt_listed = list(prompt.split())\n",
    "for p in prompt_listed:\n",
    "    prompt_tokenized = torch.tensor([tokens_to_id[token.lower()] for token in prompt_listed])\n",
    "\n",
    "\n",
    "## Now get get predictions from the model\n",
    "predictions = loaded_model(prompt_tokenized.to(device))\n",
    "predicted_id = torch.tensor([torch.argmax(predictions[-1,:])])\n",
    "predicted_ids = predicted_id\n",
    "max_length=1000\n",
    "for i in range(max_length):\n",
    "\n",
    "    if (predicted_id == tokens_to_id[\"<EOS>\"]): # if the prediction is <EOS>, then we are done\n",
    "        break\n",
    "    \n",
    "    prompt_tokenized = torch.cat((prompt_tokenized, predicted_id))\n",
    "    \n",
    "    predictions = loaded_model(prompt_tokenized.to(device)) \n",
    "    predicted_id = torch.tensor([torch.argmax(predictions[-1,:])])\n",
    "    predicted_ids = torch.cat((predicted_ids, predicted_id))\n",
    "        \n",
    "## Now printout the predicted output phrase.\n",
    "answer = []\n",
    "for id in predicted_ids: \n",
    "    answer.append(id_to_token[id.item()])\n",
    "\n",
    "print(\"Training Set: \"+ \"The Porto Tram Museum (Museu do Carro Eléctrico) is a museum operated by the Sociedade de Transportes Colectivos do Porto. It was inaugurated in 1992 and is installed \\nin a former thermoelectric power station next to the River Douro in Massarelos, Porto, Portugal. It exhibits material related to the history of trams in Porto.\")\n",
    "print(\"--------------------\")\n",
    "print(\"Prompt: \"+prompt)\n",
    "print(\"--------------------\")\n",
    "print(\"Cahtbot Answer: \"+\" \".join(answer))"
   ]
  }
 ],
 "metadata": {
  "kernelspec": {
   "display_name": "Python 3",
   "language": "python",
   "name": "python3"
  },
  "language_info": {
   "codemirror_mode": {
    "name": "ipython",
    "version": 3
   },
   "file_extension": ".py",
   "mimetype": "text/x-python",
   "name": "python",
   "nbconvert_exporter": "python",
   "pygments_lexer": "ipython3",
   "version": "3.12.4"
  }
 },
 "nbformat": 4,
 "nbformat_minor": 2
}
